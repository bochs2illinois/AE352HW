{
 "cells": [
  {
   "cell_type": "code",
   "execution_count": 50,
   "id": "98e7dbc7-0425-47c2-a15d-e25f38e237fd",
   "metadata": {
    "tags": []
   },
   "outputs": [
    {
     "name": "stdin",
     "output_type": "stream",
     "text": [
      "Once deleted, variables cannot be recovered. Proceed (y/[n])?  y\n"
     ]
    },
    {
     "name": "stdout",
     "output_type": "stream",
     "text": [
      "Only Stable Point is [0,0,0]\n",
      "{-0.0500032598065802: 1, -10.8005811086470: 1, 10.6505843684535: 1}\n",
      "real eigenvals means unstable equilibrium\n"
     ]
    }
   ],
   "source": [
    "#Question 1\n",
    "%reset\n",
    "from sympy import *\n",
    "import numpy as np\n",
    "import matplotlib.pyplot as plt\n",
    "\n",
    "\n",
    "#a\n",
    "Xu = -0.1\n",
    "Xw = -0.05\n",
    "Zu = -0.1\n",
    "Zw = -0.2\n",
    "Zq = -250.1\n",
    "Mu = -0.1\n",
    "Mw = -0.1\n",
    "Mq = 0.1\n",
    "U0 = 900 #km/hr\n",
    "\n",
    "M = Matrix([[Xu,Xw,0],\n",
    "            [Zu,Zw,(Zq-U0)],\n",
    "            [Mu,Mw,Mq]])\n",
    "\n",
    "null_space = M.nullspace()\n",
    "\n",
    "# Display the null space\n",
    "for vector in null_space:\n",
    "    print(vector)\n",
    "\n",
    "# Display a non-trivial solution if one exists\n",
    "if null_space:\n",
    "    print(null_space)\n",
    "else:\n",
    "    print(\"Only Stable Point is [0,0,0]\")\n",
    "eigenvals = M.eigenvals()\n",
    "print(eigenvals)\n",
    "print(\"real eigenvals means unstable equilibrium\")"
   ]
  },
  {
   "cell_type": "code",
   "execution_count": 52,
   "id": "1f9400cd-753e-42c8-8b48-da38adbef07e",
   "metadata": {
    "tags": []
   },
   "outputs": [
    {
     "name": "stdin",
     "output_type": "stream",
     "text": [
      "Once deleted, variables cannot be recovered. Proceed (y/[n])?  y\n"
     ]
    },
    {
     "name": "stdout",
     "output_type": "stream",
     "text": [
      "Only Stable Point is [0,0,0]\n",
      "{-0.0499967384922813: 1, -10.9491857222933: 1, 10.4991824607856: 1}\n",
      "real eigenvals means unstable equilibrium\n"
     ]
    }
   ],
   "source": [
    "#b\n",
    "%reset\n",
    "from sympy import *\n",
    "import numpy as np\n",
    "import matplotlib.pyplot as plt\n",
    "Xu = -0.1\n",
    "Xw = -0.05\n",
    "Zu = -0.1\n",
    "Zw = -0.2\n",
    "Zq = -250.1\n",
    "Mu = -0.1\n",
    "Mw = -0.1\n",
    "Mq = -0.2\n",
    "U0 = 900 #km/hr\n",
    "\n",
    "M = Matrix([[Xu,Xw,0],\n",
    "            [Zu,Zw,(Zq-U0)],\n",
    "            [Mu,Mw,Mq]])\n",
    "\n",
    "null_space = M.nullspace()\n",
    "\n",
    "# Display the null space\n",
    "for vector in null_space:\n",
    "    print(vector)\n",
    "\n",
    "# Display a non-trivial solution if one exists\n",
    "if null_space:\n",
    "    print(null_space)\n",
    "else:\n",
    "    print(\"Only Stable Point is [0,0,0]\")\n",
    "eigenvals = M.eigenvals()\n",
    "print(eigenvals)\n",
    "print(\"real eigenvals means unstable equilibrium\")\n",
    "\n",
    "print(\"This is fairly similar to after the change, so the change is not doing that much\")"
   ]
  },
  {
   "cell_type": "code",
   "execution_count": 59,
   "id": "34820efa-4e00-4032-93ef-fd87da2d7187",
   "metadata": {
    "tags": []
   },
   "outputs": [
    {
     "name": "stdin",
     "output_type": "stream",
     "text": [
      "Once deleted, variables cannot be recovered. Proceed (y/[n])?  y\n"
     ]
    },
    {
     "name": "stdout",
     "output_type": "stream",
     "text": [
      "The eq points are (x,y) : [(0, 0), (0, 2), (1, 1), (3, 0)]\n"
     ]
    }
   ],
   "source": [
    "#Question 2\n",
    "%reset\n",
    "from sympy import *\n",
    "import numpy as np\n",
    "import matplotlib.pyplot as plt\n",
    "\n",
    "\n",
    "#a\n",
    "#If left alone X grows faster since it simplifies to 3x - x2 and the other goes to 2y - y2\n",
    "\n",
    "#b\n",
    "t, x, y = symbols(\"t, x, y\")\n",
    "\n",
    "\n",
    "eq1 = Eq(0, x*(3 - x - 2*y))\n",
    "eq2 = Eq(0, y*(2 - x - y))\n",
    "soln = solve((eq1,eq2),(x,y))\n",
    "print(\"The eq points are (x,y) :\", soln)\n",
    "\n",
    "#c\n"
   ]
  },
  {
   "cell_type": "code",
   "execution_count": 61,
   "id": "c174d7f2-bfba-47a8-be82-1ffb3377c6b1",
   "metadata": {
    "tags": []
   },
   "outputs": [
    {
     "name": "stdin",
     "output_type": "stream",
     "text": [
      "Once deleted, variables cannot be recovered. Proceed (y/[n])?  y\n"
     ]
    },
    {
     "name": "stdout",
     "output_type": "stream",
     "text": [
      "0.14007141035914503 rads/s\n"
     ]
    }
   ],
   "source": [
    "#Question 3\n",
    "%reset\n",
    "from sympy import *\n",
    "import numpy as np\n",
    "import matplotlib.pyplot as plt\n",
    "\n",
    "#a\n",
    "r =  500 #m\n",
    "a = 9.81 #m\n",
    "v =  np.sqrt(a*r)\n",
    "\n",
    "w = v/r\n",
    "print(w, \"rads/s\")\n",
    "\n",
    "#b\n"
   ]
  },
  {
   "cell_type": "code",
   "execution_count": null,
   "id": "4eb592cc-a9af-4402-9304-82f6cd4e5433",
   "metadata": {},
   "outputs": [],
   "source": [
    "#Question 4\n",
    "%reset\n",
    "from sympy import *\n",
    "import numpy as np\n",
    "import matplotlib.pyplot as plt\n",
    "\n",
    "#a\n"
   ]
  }
 ],
 "metadata": {
  "kernelspec": {
   "display_name": "Python 3 (ipykernel)",
   "language": "python",
   "name": "python3"
  },
  "language_info": {
   "codemirror_mode": {
    "name": "ipython",
    "version": 3
   },
   "file_extension": ".py",
   "mimetype": "text/x-python",
   "name": "python",
   "nbconvert_exporter": "python",
   "pygments_lexer": "ipython3",
   "version": "3.11.5"
  }
 },
 "nbformat": 4,
 "nbformat_minor": 5
}
