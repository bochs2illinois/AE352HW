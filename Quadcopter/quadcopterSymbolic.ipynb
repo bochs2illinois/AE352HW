{
 "cells": [
  {
   "cell_type": "code",
   "execution_count": 2,
   "id": "2640557c-91ac-4711-a50d-d11c40798494",
   "metadata": {
    "tags": []
   },
   "outputs": [
    {
     "name": "stdin",
     "output_type": "stream",
     "text": [
      "Once deleted, variables cannot be recovered. Proceed (y/[n])?  y\n"
     ]
    }
   ],
   "source": [
    "%reset\n",
    "from sympy import *\n",
    "import numpy as np"
   ]
  },
  {
   "cell_type": "code",
   "execution_count": 3,
   "id": "c8767bf5-47da-43e5-9d28-dd9d24e5e7e1",
   "metadata": {
    "tags": []
   },
   "outputs": [],
   "source": [
    "#paramaters\n",
    "m, g, t, l = symbols(\"m, g, t, l\")\n",
    "\n",
    "\n",
    "G = Matrix([0,0,g])"
   ]
  },
  {
   "cell_type": "code",
   "execution_count": 4,
   "id": "c7ef0bf4-a148-49a1-bab9-1a1429da9581",
   "metadata": {
    "tags": []
   },
   "outputs": [],
   "source": [
    "ixx, ixy, ixz, iyx, iyy, iyz, izx, izy, izz = symbols(\"ixx, ixy, ixz, iyx, iyy, iyz, izx, izy, izz\")\n",
    "\n",
    "MI = Matrix([[ixx,   0,   0],\n",
    "             [  0, iyy,   0],\n",
    "             [  0,   0, izz]])"
   ]
  },
  {
   "cell_type": "code",
   "execution_count": 5,
   "id": "cba4e35b-ac68-45fe-a6e6-ccaff2bd2a09",
   "metadata": {
    "tags": []
   },
   "outputs": [],
   "source": [
    "#Interial Frame Vectors\n",
    "x = Function('x')(t)\n",
    "y = Function('y')(t)\n",
    "z = Function('z')(t)\n",
    "\n",
    "xd     = diff(x,t)\n",
    "yd     = diff(y,t)\n",
    "zd     = diff(z,t)\n",
    "\n",
    "xdd    = diff(x,(t,2))\n",
    "ydd    = diff(y,(t,2))\n",
    "zdd    = diff(z,(t,2))\n",
    "\n",
    "X_i    = Matrix([x,y,z])\n",
    "Xd_i   = Matrix([xd, yd, zd])\n",
    "Xdd_i  = Matrix([xdd, ydd, zdd])\n",
    "\n"
   ]
  },
  {
   "cell_type": "code",
   "execution_count": 6,
   "id": "b3dacc98-ba95-4c1e-8845-65b29ad0d13d",
   "metadata": {
    "tags": []
   },
   "outputs": [],
   "source": [
    "#Rotation Setup\n",
    "#Euler\n",
    "phi    = Function('phi')(t)\n",
    "theta  = Function('theta')(t)\n",
    "psi    = Function('psi')(t)\n",
    "\n",
    "T_i    = Matrix([phi, theta, psi])\n",
    "\n",
    "#Quaternians\n",
    "q0     = Function('q0')(t)\n",
    "q1     = Function('q1')(t)\n",
    "q2     = Function('q2')(t)\n",
    "q3     = Function('q3')(t)\n",
    "\n",
    "q = Matrix([q0,q1,q2,q3])\n",
    "\n",
    "phi   = atan2(2*(q0*q1 + q2*q3), q0**2 - q1**2 - q2**2 + q3**2)\n",
    "theta = asin(2*(q0*q2 - q3*q1))\n",
    "psi   = atan2(2*(q0*q3 + q2*q1), q0**2 + q1**2 - q2**2 - q3**2)\n",
    "\n",
    "wx    = Function('wx')(t)\n",
    "wy    = Function('wy')(t)\n",
    "wz    = Function('wz')(t)\n",
    "\n",
    "wxd   = diff(wx,t)\n",
    "wyd   = diff(wy,t)\n",
    "wzd   = diff(wz,t)\n",
    "\n",
    "w     = Matrix([wx,wy,wz])\n",
    "\n",
    "wd    = Matrix([wxd,wyd,wzd])\n",
    "\n",
    "p    = Matrix([0,wx,wy,wz])\n",
    "\n",
    "Q     = Matrix([[q0,-q1,-q2,-q3],\n",
    "                [q1, q0, q3,-q2],\n",
    "                [q2,-q3, q0, q1],\n",
    "                [q3, q2,-q1, q0]])\n",
    "\n",
    "qd = (-1/2) * Matrix([p[0]*q0 - p[1]*q1 - p[2]*q2 - p[3]*q3,\n",
    "                      p[0]*q1 + p[1]*q0 + p[2]*q3 - p[3]*q2,\n",
    "                      p[0]*q2 - p[1]*q3 + p[2]*q0 + p[3]*q1,\n",
    "                      p[0]*q3 + p[1]*q2 - p[2]*q1 + p[3]*q0])\n",
    "\n"
   ]
  },
  {
   "cell_type": "code",
   "execution_count": 7,
   "id": "596ac7dc-432d-402d-b643-3cd154f2f35e",
   "metadata": {
    "tags": []
   },
   "outputs": [
    {
     "data": {
      "text/latex": [
       "$\\displaystyle \\left[\\begin{matrix}- 2 q_{2}^{2}{\\left(t \\right)} - 2 q_{3}^{2}{\\left(t \\right)} + 1 & - 2 q_{0}{\\left(t \\right)} q_{3}{\\left(t \\right)} + 2 q_{1}{\\left(t \\right)} q_{2}{\\left(t \\right)} & 2 q_{0}{\\left(t \\right)} q_{2}{\\left(t \\right)} + 2 q_{1}{\\left(t \\right)} q_{3}{\\left(t \\right)}\\\\2 q_{0}{\\left(t \\right)} q_{3}{\\left(t \\right)} + 2 q_{1}{\\left(t \\right)} q_{2}{\\left(t \\right)} & - 2 q_{1}^{2}{\\left(t \\right)} - 2 q_{3}^{2}{\\left(t \\right)} + 1 & - 2 q_{0}{\\left(t \\right)} q_{1}{\\left(t \\right)} + 2 q_{2}{\\left(t \\right)} q_{3}{\\left(t \\right)}\\\\- 2 q_{0}{\\left(t \\right)} q_{2}{\\left(t \\right)} + 2 q_{1}{\\left(t \\right)} q_{3}{\\left(t \\right)} & 2 q_{0}{\\left(t \\right)} q_{1}{\\left(t \\right)} + 2 q_{2}{\\left(t \\right)} q_{3}{\\left(t \\right)} & - 2 q_{1}^{2}{\\left(t \\right)} - 2 q_{2}^{2}{\\left(t \\right)} + 1\\end{matrix}\\right]$"
      ],
      "text/plain": [
       "Matrix([\n",
       "[  -2*q2(t)**2 - 2*q3(t)**2 + 1, -2*q0(t)*q3(t) + 2*q1(t)*q2(t),  2*q0(t)*q2(t) + 2*q1(t)*q3(t)],\n",
       "[ 2*q0(t)*q3(t) + 2*q1(t)*q2(t),   -2*q1(t)**2 - 2*q3(t)**2 + 1, -2*q0(t)*q1(t) + 2*q2(t)*q3(t)],\n",
       "[-2*q0(t)*q2(t) + 2*q1(t)*q3(t),  2*q0(t)*q1(t) + 2*q2(t)*q3(t),   -2*q1(t)**2 - 2*q2(t)**2 + 1]])"
      ]
     },
     "execution_count": 7,
     "metadata": {},
     "output_type": "execute_result"
    }
   ],
   "source": [
    "R = Matrix([[1-2*q2**2-2*q3**2      ,         2*q1*q2-2*q0*q3,         2*q1*q3+2*q0*q2],\n",
    "            [        2*q1*q2+2*q0*q3, 1-2*q1**2-2*q3**2      ,         2*q2*q3-2*q0*q1],\n",
    "            [        2*q1*q3-2*q0*q2,         2*q2*q3+2*q0*q1, 1-2*q1**2-2*q2**2      ]])\n",
    "R"
   ]
  },
  {
   "cell_type": "code",
   "execution_count": 8,
   "id": "3043ce61-74c5-4231-a55a-d36645f75636",
   "metadata": {
    "tags": []
   },
   "outputs": [],
   "source": [
    "#Newton & Quaternians\n",
    "\n",
    "F1, F2, F3, F4 = symbols(\"F1, F2, F3, F4\")\n",
    "T1, T2, T3, T4 = symbols(\"T1, T2, T3, T4\")\n",
    "\n",
    "F1_rotor = Matrix([0,0,F1]) \n",
    "F2_rotor = Matrix([0,0,F2])\n",
    "F3_rotor = Matrix([0,0,F3])\n",
    "F4_rotor = Matrix([0,0,F4])\n",
    "\n",
    "T1_rotor = Matrix([0,0,T1])\n",
    "T2_rotor = Matrix([0,0,T2])\n",
    "T3_rotor = Matrix([0,0,T3])\n",
    "T4_rotor = Matrix([0,0,T4])\n",
    "\n",
    "R1_rotor = Matrix([l,0,0])\n",
    "R2_rotor = Matrix([0,l,0])\n",
    "R3_rotor = Matrix([-l,0,0])\n",
    "R4_rotor = Matrix([0,-l,0])\n",
    "\n"
   ]
  },
  {
   "cell_type": "code",
   "execution_count": 9,
   "id": "ba2f7ab2-838e-479f-bd0b-ff3ab80ae019",
   "metadata": {
    "tags": []
   },
   "outputs": [],
   "source": [
    "XDD = ((m*G + R @ F1_rotor + R @ F2_rotor + R @ F3_rotor + R @ F4_rotor)/m)"
   ]
  },
  {
   "cell_type": "code",
   "execution_count": 10,
   "id": "753e0748-d7e5-46f3-9dfe-f51b4091124a",
   "metadata": {
    "tags": []
   },
   "outputs": [],
   "source": [
    "Torque =  (T1_rotor + T2_rotor + T3_rotor + T4_rotor + R1_rotor.cross(F1_rotor) + R2_rotor.cross(F2_rotor) + R3_rotor.cross(F3_rotor) + R4_rotor.cross(F4_rotor)) \n",
    "wd = MI.inv() @ Torque - MI.inv() @ (w.cross(MI @ w))"
   ]
  },
  {
   "cell_type": "code",
   "execution_count": 11,
   "id": "f93fccb4-5f00-44f3-8522-c3911147e637",
   "metadata": {
    "tags": []
   },
   "outputs": [
    {
     "data": {
      "text/latex": [
       "$\\displaystyle \\frac{2 \\left(q_{0}{\\left(t \\right)} q_{2}{\\left(t \\right)} + q_{1}{\\left(t \\right)} q_{3}{\\left(t \\right)}\\right) \\left(F_{1} + F_{2} + F_{3} + F_{4}\\right)}{m}$"
      ],
      "text/plain": [
       "2*(q0(t)*q2(t) + q1(t)*q3(t))*(F1 + F2 + F3 + F4)/m"
      ]
     },
     "execution_count": 11,
     "metadata": {},
     "output_type": "execute_result"
    }
   ],
   "source": [
    "#xdd\n",
    "XDD[0].simplify()"
   ]
  },
  {
   "cell_type": "code",
   "execution_count": 12,
   "id": "3168a204-1084-40fa-b7ee-dbc81e57b224",
   "metadata": {
    "tags": []
   },
   "outputs": [
    {
     "data": {
      "text/latex": [
       "$\\displaystyle \\frac{2 \\left(q_{0}{\\left(t \\right)} q_{1}{\\left(t \\right)} - q_{2}{\\left(t \\right)} q_{3}{\\left(t \\right)}\\right) \\left(- F_{1} - F_{2} - F_{3} - F_{4}\\right)}{m}$"
      ],
      "text/plain": [
       "2*(q0(t)*q1(t) - q2(t)*q3(t))*(-F1 - F2 - F3 - F4)/m"
      ]
     },
     "execution_count": 12,
     "metadata": {},
     "output_type": "execute_result"
    }
   ],
   "source": [
    "#ydd\n",
    "XDD[1].simplify()"
   ]
  },
  {
   "cell_type": "code",
   "execution_count": 13,
   "id": "2abdc30b-b995-458f-8f17-1cf9e3071f06",
   "metadata": {
    "tags": []
   },
   "outputs": [
    {
     "data": {
      "text/latex": [
       "$\\displaystyle \\frac{- F_{1} \\cdot \\left(2 q_{1}^{2}{\\left(t \\right)} + 2 q_{2}^{2}{\\left(t \\right)} - 1\\right) - F_{2} \\cdot \\left(2 q_{1}^{2}{\\left(t \\right)} + 2 q_{2}^{2}{\\left(t \\right)} - 1\\right) - F_{3} \\cdot \\left(2 q_{1}^{2}{\\left(t \\right)} + 2 q_{2}^{2}{\\left(t \\right)} - 1\\right) - F_{4} \\cdot \\left(2 q_{1}^{2}{\\left(t \\right)} + 2 q_{2}^{2}{\\left(t \\right)} - 1\\right) + g m}{m}$"
      ],
      "text/plain": [
       "(-F1*(2*q1(t)**2 + 2*q2(t)**2 - 1) - F2*(2*q1(t)**2 + 2*q2(t)**2 - 1) - F3*(2*q1(t)**2 + 2*q2(t)**2 - 1) - F4*(2*q1(t)**2 + 2*q2(t)**2 - 1) + g*m)/m"
      ]
     },
     "execution_count": 13,
     "metadata": {},
     "output_type": "execute_result"
    }
   ],
   "source": [
    "#zdd\n",
    "XDD[2].simplify()"
   ]
  },
  {
   "cell_type": "code",
   "execution_count": 14,
   "id": "c592ef45-39c3-4618-9cbd-a760e0fb3dd5",
   "metadata": {
    "tags": []
   },
   "outputs": [
    {
     "data": {
      "text/latex": [
       "$\\displaystyle \\frac{F_{2} l - F_{4} l}{ixx} - \\frac{- iyy \\operatorname{wy}{\\left(t \\right)} \\operatorname{wz}{\\left(t \\right)} + izz \\operatorname{wy}{\\left(t \\right)} \\operatorname{wz}{\\left(t \\right)}}{ixx}$"
      ],
      "text/plain": [
       "(F2*l - F4*l)/ixx - (-iyy*wy(t)*wz(t) + izz*wy(t)*wz(t))/ixx"
      ]
     },
     "execution_count": 14,
     "metadata": {},
     "output_type": "execute_result"
    }
   ],
   "source": [
    "#wxd\n",
    "wd[0]"
   ]
  },
  {
   "cell_type": "code",
   "execution_count": 15,
   "id": "5b7860d2-9c0f-4f4a-8d8a-728c061f8e29",
   "metadata": {
    "tags": []
   },
   "outputs": [
    {
     "data": {
      "text/latex": [
       "$\\displaystyle \\frac{- F_{1} l + F_{3} l}{iyy} - \\frac{ixx \\operatorname{wx}{\\left(t \\right)} \\operatorname{wz}{\\left(t \\right)} - izz \\operatorname{wx}{\\left(t \\right)} \\operatorname{wz}{\\left(t \\right)}}{iyy}$"
      ],
      "text/plain": [
       "(-F1*l + F3*l)/iyy - (ixx*wx(t)*wz(t) - izz*wx(t)*wz(t))/iyy"
      ]
     },
     "execution_count": 15,
     "metadata": {},
     "output_type": "execute_result"
    }
   ],
   "source": [
    "#wyd\n",
    "wd[1]"
   ]
  },
  {
   "cell_type": "code",
   "execution_count": 16,
   "id": "84d6033e-e1f9-4ed8-b1ee-f503b9e22ed7",
   "metadata": {
    "tags": []
   },
   "outputs": [
    {
     "data": {
      "text/latex": [
       "$\\displaystyle - \\frac{- ixx \\operatorname{wx}{\\left(t \\right)} \\operatorname{wy}{\\left(t \\right)} + iyy \\operatorname{wx}{\\left(t \\right)} \\operatorname{wy}{\\left(t \\right)}}{izz} + \\frac{T_{1} + T_{2} + T_{3} + T_{4}}{izz}$"
      ],
      "text/plain": [
       "-(-ixx*wx(t)*wy(t) + iyy*wx(t)*wy(t))/izz + (T1 + T2 + T3 + T4)/izz"
      ]
     },
     "execution_count": 16,
     "metadata": {},
     "output_type": "execute_result"
    }
   ],
   "source": [
    "#wzd\n",
    "wd[2]"
   ]
  },
  {
   "cell_type": "code",
   "execution_count": 17,
   "id": "7fb10dc7-a1fe-4ef8-ba62-69935c1a7f3f",
   "metadata": {
    "tags": []
   },
   "outputs": [
    {
     "data": {
      "text/latex": [
       "$\\displaystyle \\left[\\begin{matrix}0\\\\0\\\\0\\end{matrix}\\right]$"
      ],
      "text/plain": [
       "Matrix([\n",
       "[0],\n",
       "[0],\n",
       "[0]])"
      ]
     },
     "execution_count": 17,
     "metadata": {},
     "output_type": "execute_result"
    }
   ],
   "source": [
    "wd.subs(q0,1).subs(q1,0).subs(q2,0).subs(q3,0).subs(F1,1.4).subs(F2,1.4).subs(F3,1.4).subs(F4,1.4).subs(T1,0).subs(T2,0).subs(T3,0).subs(T4,0).subs(wx,0).subs(wy,0).subs(wz,.125)"
   ]
  },
  {
   "cell_type": "code",
   "execution_count": 18,
   "id": "6c7aa515-2204-4f72-a53c-003d307dafd2",
   "metadata": {
    "tags": []
   },
   "outputs": [
    {
     "data": {
      "text/latex": [
       "$\\displaystyle \\left[\\begin{matrix}0\\\\\\frac{0.4 l}{iyy}\\\\0\\end{matrix}\\right]$"
      ],
      "text/plain": [
       "Matrix([\n",
       "[        0],\n",
       "[0.4*l/iyy],\n",
       "[        0]])"
      ]
     },
     "execution_count": 18,
     "metadata": {},
     "output_type": "execute_result"
    }
   ],
   "source": [
    "wd.subs(q0,.7).subs(q1,0).subs(q2,0).subs(q3,-0.7).subs(F1,1.2).subs(F2,1.4).subs(F3,1.6).subs(F4,1.4).subs(T1,0).subs(T2,0).subs(T3,0).subs(T4,0).subs(wx,0).subs(wy,0).subs(wz,0)"
   ]
  },
  {
   "cell_type": "code",
   "execution_count": 19,
   "id": "0c0869e6-3e2e-4483-8cb4-3f87a4141faa",
   "metadata": {},
   "outputs": [
    {
     "data": {
      "text/latex": [
       "$\\displaystyle \\left[\\begin{matrix}\\frac{0.0136570303204636}{m}\\\\\\frac{1.39911920214579}{m}\\\\\\frac{g m + 5.42590956157961}{m}\\end{matrix}\\right]$"
      ],
      "text/plain": [
       "Matrix([\n",
       "[      0.0136570303204636/m],\n",
       "[        1.39911920214579/m],\n",
       "[(g*m + 5.42590956157961)/m]])"
      ]
     },
     "execution_count": 19,
     "metadata": {},
     "output_type": "execute_result"
    }
   ],
   "source": [
    "XDD.subs(q0,0.715421374563456).subs(q1,-0.0881583494193193).subs(q2,0.0881583494193194).subs(q3,0.701589698775332).subs(F1,1.4).subs(F2,1.4).subs(F3,1.4).subs(F4,1.4)"
   ]
  },
  {
   "cell_type": "code",
   "execution_count": 22,
   "id": "90c9a055-089f-4228-8466-e5d3b0f7f4b2",
   "metadata": {},
   "outputs": [
    {
     "data": {
      "text/latex": [
       "$\\displaystyle \\left[\\begin{matrix}- \\frac{0.121770491559566}{m}\\\\- \\frac{0.678755801331974}{m}\\\\\\frac{g m + 5.57166019989746}{m}\\end{matrix}\\right]$"
      ],
      "text/plain": [
       "Matrix([\n",
       "[      -0.121770491559566/m],\n",
       "[      -0.678755801331974/m],\n",
       "[(g*m + 5.57166019989746)/m]])"
      ]
     },
     "execution_count": 22,
     "metadata": {},
     "output_type": "execute_result"
    }
   ],
   "source": [
    "XDD.subs(q0,1).subs(q1,0.0353284606605302).subs(q2,-0.0358083672097288).subs(q3,0.705833241123056).subs(F1,1.4).subs(F2,1.4).subs(F3,1.4).subs(F4,1.4)"
   ]
  },
  {
   "cell_type": "code",
   "execution_count": 24,
   "id": "217da63b-c73d-455e-bb83-03fd55bd15b9",
   "metadata": {},
   "outputs": [
    {
     "data": {
      "text/latex": [
       "$\\displaystyle \\left[\\begin{matrix}0\\\\\\frac{0.4 l}{iyy}\\\\\\frac{0.0004}{izz}\\end{matrix}\\right]$"
      ],
      "text/plain": [
       "Matrix([\n",
       "[         0],\n",
       "[ 0.4*l/iyy],\n",
       "[0.0004/izz]])"
      ]
     },
     "execution_count": 24,
     "metadata": {},
     "output_type": "execute_result"
    }
   ],
   "source": [
    "wd.subs(q0,0.715421374563456).subs(q1,0).subs(q2,0).subs(q3,0.715421374563456).subs(F1,1.2).subs(F2,1.4).subs(F3,1.6).subs(F4,1.4).subs(T1,0.0001).subs(T2,0.0001).subs(T3,0.0001).subs(T4,0.0001).subs(wx,0).subs(wy,0).subs(wz,0)"
   ]
  },
  {
   "cell_type": "code",
   "execution_count": null,
   "id": "60c04352-3d0a-4bbe-9889-09bedd2d524c",
   "metadata": {},
   "outputs": [],
   "source": []
  }
 ],
 "metadata": {
  "kernelspec": {
   "display_name": "Python 3 (ipykernel)",
   "language": "python",
   "name": "python3"
  },
  "language_info": {
   "codemirror_mode": {
    "name": "ipython",
    "version": 3
   },
   "file_extension": ".py",
   "mimetype": "text/x-python",
   "name": "python",
   "nbconvert_exporter": "python",
   "pygments_lexer": "ipython3",
   "version": "3.11.5"
  }
 },
 "nbformat": 4,
 "nbformat_minor": 5
}
