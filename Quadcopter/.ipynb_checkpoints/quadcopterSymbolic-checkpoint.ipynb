{
 "cells": [
  {
   "cell_type": "code",
   "execution_count": 115,
   "id": "2640557c-91ac-4711-a50d-d11c40798494",
   "metadata": {
    "tags": []
   },
   "outputs": [
    {
     "name": "stdin",
     "output_type": "stream",
     "text": [
      "Once deleted, variables cannot be recovered. Proceed (y/[n])?  y\n"
     ]
    }
   ],
   "source": [
    "%reset\n",
    "from sympy import *\n",
    "import numpy as np"
   ]
  },
  {
   "cell_type": "code",
   "execution_count": 116,
   "id": "c8767bf5-47da-43e5-9d28-dd9d24e5e7e1",
   "metadata": {
    "tags": []
   },
   "outputs": [],
   "source": [
    "#paramaters\n",
    "m, g, t, l = symbols(\"m, g, t, l\")\n",
    "\n",
    "\n",
    "G = Matrix([0,0,g])"
   ]
  },
  {
   "cell_type": "code",
   "execution_count": 117,
   "id": "c7ef0bf4-a148-49a1-bab9-1a1429da9581",
   "metadata": {
    "tags": []
   },
   "outputs": [],
   "source": [
    "ixx, ixy, ixz, iyx, iyy, iyz, izx, izy, izz = symbols(\"ixx, ixy, ixz, iyx, iyy, iyz, izx, izy, izz\")\n",
    "\n",
    "MI = Matrix([[ixx,   0,   0],\n",
    "             [  0, iyy,   0],\n",
    "             [  0,   0, izz]])"
   ]
  },
  {
   "cell_type": "code",
   "execution_count": 118,
   "id": "cba4e35b-ac68-45fe-a6e6-ccaff2bd2a09",
   "metadata": {
    "tags": []
   },
   "outputs": [],
   "source": [
    "#Interial Frame Vectors\n",
    "x = Function('x')(t)\n",
    "y = Function('y')(t)\n",
    "z = Function('z')(t)\n",
    "\n",
    "xd     = diff(x,t)\n",
    "yd     = diff(y,t)\n",
    "zd     = diff(z,t)\n",
    "\n",
    "xdd    = diff(x,(t,2))\n",
    "ydd    = diff(y,(t,2))\n",
    "zdd    = diff(z,(t,2))\n",
    "\n",
    "X_i    = Matrix([x,y,z])\n",
    "Xd_i   = Matrix([xd, yd, zd])\n",
    "Xdd_i  = Matrix([xdd, ydd, zdd])\n",
    "\n"
   ]
  },
  {
   "cell_type": "code",
   "execution_count": 119,
   "id": "b3dacc98-ba95-4c1e-8845-65b29ad0d13d",
   "metadata": {
    "tags": []
   },
   "outputs": [],
   "source": [
    "#Rotation Setup\n",
    "#Euler\n",
    "phi    = Function('phi')(t)\n",
    "theta  = Function('theta')(t)\n",
    "psi    = Function('psi')(t)\n",
    "\n",
    "T_i    = Matrix([phi, theta, psi])\n",
    "\n",
    "#Quaternians\n",
    "q0     = Function('q0')(t)\n",
    "q1     = Function('q1')(t)\n",
    "q2     = Function('q2')(t)\n",
    "q3     = Function('q3')(t)\n",
    "\n",
    "q = Matrix([q0,q1,q2,q3])\n",
    "\n",
    "#phi   = atan2(2*(q0*q1 + q2*q3), q0**2 - q1**2 - q2**2 + q3**2)\n",
    "#theta = asin(2*(q0*q2 - q3*q1))\n",
    "#psi   = atan2(2*(q0*q3 + q2*q1), q0**2 + q1**2 - q2**2 - q3**2)\n",
    "\n",
    "wx    = Function('wx')(t)\n",
    "wy    = Function('wy')(t)\n",
    "wz    = Function('wz')(t)\n",
    "\n",
    "wxd   = diff(wx,t)\n",
    "wyd   = diff(wy,t)\n",
    "wzd   = diff(wz,t)\n",
    "\n",
    "w     = Matrix([wx,wy,wz])\n",
    "\n",
    "wd    = Matrix([wxd,wyd,wzd])\n",
    "\n",
    "p    = Matrix([0,wx,wy,wz])\n",
    "\n",
    "Q     = Matrix([[q0,-q1,-q2,-q3],\n",
    "                [q1, q0, q3,-q2],\n",
    "                [q2,-q3, q0, q1],\n",
    "                [q3, q2,-q1, q0]])\n",
    "\n",
    "qd = (-1/2) * Matrix([p[0]*q0 - p[1]*q1 - p[2]*q2 - p[3]*q3,\n",
    "                      p[0]*q1 + p[1]*q0 + p[2]*q3 - p[3]*q2,\n",
    "                      p[0]*q2 - p[1]*q3 + p[2]*q0 + p[3]*q1,\n",
    "                      p[0]*q3 + p[1]*q2 - p[2]*q1 + p[3]*q0])\n",
    "\n"
   ]
  },
  {
   "cell_type": "code",
   "execution_count": 120,
   "id": "d512bff5-1df0-4b98-8ae9-52f840ecbebf",
   "metadata": {},
   "outputs": [
    {
     "data": {
      "text/latex": [
       "$\\displaystyle \\left[\\begin{matrix}\\cos{\\left(\\psi{\\left(t \\right)} \\right)} \\cos{\\left(\\theta{\\left(t \\right)} \\right)} & - \\sin{\\left(\\phi{\\left(t \\right)} \\right)} \\sin{\\left(\\theta{\\left(t \\right)} \\right)} \\cos{\\left(\\psi{\\left(t \\right)} \\right)} - \\sin{\\left(\\psi{\\left(t \\right)} \\right)} \\cos{\\left(\\phi{\\left(t \\right)} \\right)} & \\sin{\\left(\\phi{\\left(t \\right)} \\right)} \\sin{\\left(\\psi{\\left(t \\right)} \\right)} - \\sin{\\left(\\theta{\\left(t \\right)} \\right)} \\cos{\\left(\\phi{\\left(t \\right)} \\right)} \\cos{\\left(\\psi{\\left(t \\right)} \\right)}\\\\\\sin{\\left(\\psi{\\left(t \\right)} \\right)} \\cos{\\left(\\theta{\\left(t \\right)} \\right)} & - \\sin{\\left(\\phi{\\left(t \\right)} \\right)} \\sin{\\left(\\psi{\\left(t \\right)} \\right)} \\sin{\\left(\\theta{\\left(t \\right)} \\right)} + \\cos{\\left(\\phi{\\left(t \\right)} \\right)} \\cos{\\left(\\psi{\\left(t \\right)} \\right)} & - \\sin{\\left(\\phi{\\left(t \\right)} \\right)} \\cos{\\left(\\psi{\\left(t \\right)} \\right)} - \\sin{\\left(\\psi{\\left(t \\right)} \\right)} \\sin{\\left(\\theta{\\left(t \\right)} \\right)} \\cos{\\left(\\phi{\\left(t \\right)} \\right)}\\\\\\sin{\\left(\\theta{\\left(t \\right)} \\right)} & \\sin{\\left(\\phi{\\left(t \\right)} \\right)} \\cos{\\left(\\theta{\\left(t \\right)} \\right)} & \\cos{\\left(\\phi{\\left(t \\right)} \\right)} \\cos{\\left(\\theta{\\left(t \\right)} \\right)}\\end{matrix}\\right]$"
      ],
      "text/plain": [
       "Matrix([\n",
       "[cos(psi(t))*cos(theta(t)), -sin(phi(t))*sin(theta(t))*cos(psi(t)) - sin(psi(t))*cos(phi(t)),  sin(phi(t))*sin(psi(t)) - sin(theta(t))*cos(phi(t))*cos(psi(t))],\n",
       "[sin(psi(t))*cos(theta(t)), -sin(phi(t))*sin(psi(t))*sin(theta(t)) + cos(phi(t))*cos(psi(t)), -sin(phi(t))*cos(psi(t)) - sin(psi(t))*sin(theta(t))*cos(phi(t))],\n",
       "[            sin(theta(t)),                                        sin(phi(t))*cos(theta(t)),                                        cos(phi(t))*cos(theta(t))]])"
      ]
     },
     "execution_count": 120,
     "metadata": {},
     "output_type": "execute_result"
    }
   ],
   "source": [
    "#Rotation Matrix\n",
    "Rx = Matrix([[1,0,0],[0,cos(phi),-sin(phi)],[0,sin(phi),cos(phi)]])\n",
    "Ry = Matrix([[cos(theta),0,-sin(theta)],[0,1,0],[sin(theta),0,cos(theta)]])\n",
    "Rz = Matrix([[cos(psi),-sin(psi),0],[sin(psi),cos(psi),0],[0,0,1]])\n",
    "\n",
    "R = Rz @ Ry @ Rx\n",
    "                                           \n",
    "R"
   ]
  },
  {
   "cell_type": "code",
   "execution_count": 121,
   "id": "3043ce61-74c5-4231-a55a-d36645f75636",
   "metadata": {
    "tags": []
   },
   "outputs": [],
   "source": [
    "#Newton & Quaternians\n",
    "\n",
    "F1, F2, F3, F4 = symbols(\"F1, F2, F3, F4\")\n",
    "T1, T2, T3, T4 = symbols(\"T1, T2, T3, T4\")\n",
    "\n",
    "F1_rotor = Matrix([0,0,F1]) \n",
    "F2_rotor = Matrix([0,0,F2])\n",
    "F3_rotor = Matrix([0,0,F3])\n",
    "F4_rotor = Matrix([0,0,F4])\n",
    "\n",
    "T1_rotor = Matrix([0,0,T1])\n",
    "T2_rotor = Matrix([0,0,T2])\n",
    "T3_rotor = Matrix([0,0,T3])\n",
    "T4_rotor = Matrix([0,0,T4])\n",
    "\n",
    "R1_rotor = Matrix([l,0,0])\n",
    "R2_rotor = Matrix([0,l,0])\n",
    "R3_rotor = Matrix([-l,0,0])\n",
    "R4_rotor = Matrix([0,-l,0])\n",
    "\n"
   ]
  },
  {
   "cell_type": "code",
   "execution_count": 122,
   "id": "ba2f7ab2-838e-479f-bd0b-ff3ab80ae019",
   "metadata": {
    "tags": []
   },
   "outputs": [],
   "source": [
    "XDD = ((m*G + R @ F1_rotor + R @ F2_rotor + R @ F3_rotor + R @ F4_rotor)/m)"
   ]
  },
  {
   "cell_type": "code",
   "execution_count": 123,
   "id": "753e0748-d7e5-46f3-9dfe-f51b4091124a",
   "metadata": {
    "tags": []
   },
   "outputs": [],
   "source": [
    "Torque =  (T1_rotor + T2_rotor + T3_rotor + T4_rotor + R1_rotor.cross(F1_rotor) + R2_rotor.cross(F2_rotor) + R3_rotor.cross(F3_rotor) + R4_rotor.cross(F4_rotor)) \n",
    "wd = MI.inv() @ Torque - MI.inv() @ (w.cross(MI @ w))"
   ]
  },
  {
   "cell_type": "code",
   "execution_count": 124,
   "id": "f93fccb4-5f00-44f3-8522-c3911147e637",
   "metadata": {
    "tags": []
   },
   "outputs": [
    {
     "data": {
      "text/latex": [
       "$\\displaystyle \\frac{\\left(\\sin{\\left(\\phi{\\left(t \\right)} \\right)} \\sin{\\left(\\psi{\\left(t \\right)} \\right)} - \\sin{\\left(\\theta{\\left(t \\right)} \\right)} \\cos{\\left(\\phi{\\left(t \\right)} \\right)} \\cos{\\left(\\psi{\\left(t \\right)} \\right)}\\right) \\left(F_{1} + F_{2} + F_{3} + F_{4}\\right)}{m}$"
      ],
      "text/plain": [
       "(sin(phi(t))*sin(psi(t)) - sin(theta(t))*cos(phi(t))*cos(psi(t)))*(F1 + F2 + F3 + F4)/m"
      ]
     },
     "execution_count": 124,
     "metadata": {},
     "output_type": "execute_result"
    }
   ],
   "source": [
    "#xdd\n",
    "XDD[0].simplify()"
   ]
  },
  {
   "cell_type": "code",
   "execution_count": 125,
   "id": "3168a204-1084-40fa-b7ee-dbc81e57b224",
   "metadata": {
    "tags": []
   },
   "outputs": [
    {
     "data": {
      "text/latex": [
       "$\\displaystyle \\frac{\\left(\\sin{\\left(\\phi{\\left(t \\right)} \\right)} \\cos{\\left(\\psi{\\left(t \\right)} \\right)} + \\sin{\\left(\\psi{\\left(t \\right)} \\right)} \\sin{\\left(\\theta{\\left(t \\right)} \\right)} \\cos{\\left(\\phi{\\left(t \\right)} \\right)}\\right) \\left(- F_{1} - F_{2} - F_{3} - F_{4}\\right)}{m}$"
      ],
      "text/plain": [
       "(sin(phi(t))*cos(psi(t)) + sin(psi(t))*sin(theta(t))*cos(phi(t)))*(-F1 - F2 - F3 - F4)/m"
      ]
     },
     "execution_count": 125,
     "metadata": {},
     "output_type": "execute_result"
    }
   ],
   "source": [
    "#ydd\n",
    "XDD[1].simplify()"
   ]
  },
  {
   "cell_type": "code",
   "execution_count": 126,
   "id": "2abdc30b-b995-458f-8f17-1cf9e3071f06",
   "metadata": {
    "tags": []
   },
   "outputs": [
    {
     "data": {
      "text/latex": [
       "$\\displaystyle \\frac{F_{1} \\cos{\\left(\\phi{\\left(t \\right)} \\right)} \\cos{\\left(\\theta{\\left(t \\right)} \\right)} + F_{2} \\cos{\\left(\\phi{\\left(t \\right)} \\right)} \\cos{\\left(\\theta{\\left(t \\right)} \\right)} + F_{3} \\cos{\\left(\\phi{\\left(t \\right)} \\right)} \\cos{\\left(\\theta{\\left(t \\right)} \\right)} + F_{4} \\cos{\\left(\\phi{\\left(t \\right)} \\right)} \\cos{\\left(\\theta{\\left(t \\right)} \\right)} + g m}{m}$"
      ],
      "text/plain": [
       "(F1*cos(phi(t))*cos(theta(t)) + F2*cos(phi(t))*cos(theta(t)) + F3*cos(phi(t))*cos(theta(t)) + F4*cos(phi(t))*cos(theta(t)) + g*m)/m"
      ]
     },
     "execution_count": 126,
     "metadata": {},
     "output_type": "execute_result"
    }
   ],
   "source": [
    "#zdd\n",
    "XDD[2].simplify()"
   ]
  },
  {
   "cell_type": "code",
   "execution_count": 127,
   "id": "c592ef45-39c3-4618-9cbd-a760e0fb3dd5",
   "metadata": {
    "tags": []
   },
   "outputs": [
    {
     "data": {
      "text/latex": [
       "$\\displaystyle \\frac{F_{2} l - F_{4} l}{ixx} - \\frac{- iyy \\operatorname{wy}{\\left(t \\right)} \\operatorname{wz}{\\left(t \\right)} + izz \\operatorname{wy}{\\left(t \\right)} \\operatorname{wz}{\\left(t \\right)}}{ixx}$"
      ],
      "text/plain": [
       "(F2*l - F4*l)/ixx - (-iyy*wy(t)*wz(t) + izz*wy(t)*wz(t))/ixx"
      ]
     },
     "execution_count": 127,
     "metadata": {},
     "output_type": "execute_result"
    }
   ],
   "source": [
    "#wxd\n",
    "wd[0]"
   ]
  },
  {
   "cell_type": "code",
   "execution_count": 128,
   "id": "5b7860d2-9c0f-4f4a-8d8a-728c061f8e29",
   "metadata": {
    "tags": []
   },
   "outputs": [
    {
     "data": {
      "text/latex": [
       "$\\displaystyle \\frac{- F_{1} l + F_{3} l}{iyy} - \\frac{ixx \\operatorname{wx}{\\left(t \\right)} \\operatorname{wz}{\\left(t \\right)} - izz \\operatorname{wx}{\\left(t \\right)} \\operatorname{wz}{\\left(t \\right)}}{iyy}$"
      ],
      "text/plain": [
       "(-F1*l + F3*l)/iyy - (ixx*wx(t)*wz(t) - izz*wx(t)*wz(t))/iyy"
      ]
     },
     "execution_count": 128,
     "metadata": {},
     "output_type": "execute_result"
    }
   ],
   "source": [
    "#wyd\n",
    "wd[1]"
   ]
  },
  {
   "cell_type": "code",
   "execution_count": 129,
   "id": "84d6033e-e1f9-4ed8-b1ee-f503b9e22ed7",
   "metadata": {
    "tags": []
   },
   "outputs": [
    {
     "data": {
      "text/latex": [
       "$\\displaystyle - \\frac{- ixx \\operatorname{wx}{\\left(t \\right)} \\operatorname{wy}{\\left(t \\right)} + iyy \\operatorname{wx}{\\left(t \\right)} \\operatorname{wy}{\\left(t \\right)}}{izz} + \\frac{T_{1} + T_{2} + T_{3} + T_{4}}{izz}$"
      ],
      "text/plain": [
       "-(-ixx*wx(t)*wy(t) + iyy*wx(t)*wy(t))/izz + (T1 + T2 + T3 + T4)/izz"
      ]
     },
     "execution_count": 129,
     "metadata": {},
     "output_type": "execute_result"
    }
   ],
   "source": [
    "#wzd\n",
    "wd[2]"
   ]
  }
 ],
 "metadata": {
  "kernelspec": {
   "display_name": "Python 3 (ipykernel)",
   "language": "python",
   "name": "python3"
  },
  "language_info": {
   "codemirror_mode": {
    "name": "ipython",
    "version": 3
   },
   "file_extension": ".py",
   "mimetype": "text/x-python",
   "name": "python",
   "nbconvert_exporter": "python",
   "pygments_lexer": "ipython3",
   "version": "3.11.5"
  }
 },
 "nbformat": 4,
 "nbformat_minor": 5
}
