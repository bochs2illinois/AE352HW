{
 "cells": [
  {
   "cell_type": "code",
   "execution_count": 49,
   "id": "2eeda873-9686-43fb-975b-0bae01567d97",
   "metadata": {
    "tags": []
   },
   "outputs": [
    {
     "name": "stdin",
     "output_type": "stream",
     "text": [
      "Once deleted, variables cannot be recovered. Proceed (y/[n])?  y\n"
     ]
    }
   ],
   "source": [
    "%reset\n",
    "from sympy import *\n",
    "import numpy as np"
   ]
  },
  {
   "cell_type": "code",
   "execution_count": 50,
   "id": "0096ec16-9a84-41b7-8aa3-879671f9de39",
   "metadata": {
    "tags": []
   },
   "outputs": [],
   "source": [
    "#Masses\n",
    "motorMass     = 0.0273 #kg\n",
    "frameMass     = 0.133 #kg\n",
    "batteryMass   = 0.265 #kg\n",
    "computerMass  = 0.059 #kg\n",
    "propellerMass = 0.0034 #kg\n",
    "radioMass     = 0.0005 #kg\n",
    "\n",
    "#Frame Parameters\n",
    "pxToM         = (7 / 18) / 1000 # m / px\n",
    "length        = (517 - 143) * pxToM #m\n",
    "width         = (390 - 311) * pxToM #m\n",
    "armLength     = sqrt((294 - 96)**2 + (375 - 522)**2)  * pxToM #m\n",
    "armWidth      = sqrt((213 - 231)**2 + (417 - 435)**2)  * pxToM #m\n",
    "center        = Matrix([350, 333, 0])\n",
    " \n",
    "armArea       = armLength * armWidth\n",
    "centerArea    = length * width\n",
    "totalArea     = armArea*4 + centerArea*2\n",
    "\n",
    "centerMass    = frameMass * (2 * centerArea / totalArea)\n",
    "armMass       = frameMass * (armArea / totalArea)\n",
    "\n",
    "Oframeplate1_R = Matrix([0,0,0])\n",
    "Oframeplate2_R = Matrix([0,0, 0.0023])\n",
    "\n",
    "#Motor Parameters\n",
    "motorDiameter= 0.0023 #m\n",
    "motorHeight  = 0.00154 #m\n",
    "\n",
    "motor_R      = ((Matrix([134, 157, 0]) - center) * pxToM).norm()\n",
    "motor_Dir    = ((Matrix([134, 157, 0]) - center) * pxToM)/motor_R\n",
    "Omotor_R1     = Matrix([motor_R,0,0])\n",
    "Omotor_R2     = Omotor_R1.cross(Matrix([0,0,1]))\n",
    "Omotor_R3     = Omotor_R2.cross(Matrix([0,0,1]))\n",
    "Omotor_R4     = Omotor_R3.cross(Matrix([0,0,1]))\n",
    "motor_Ang    = -acos(motor_Dir.dot(Matrix([1,0,0])))\n",
    "rot          = Matrix([[cos(motor_Ang),-sin(motor_Ang),0],[sin(motor_Ang),cos(motor_Ang),0],[0,0,1]])\n",
    "\n",
    "#Battery Parameters\n",
    "batLength    = 0.0085 #m\n",
    "batWidth     = 0.0045 #m\n",
    "batHeight    = 0.0038 #m\n",
    "\n",
    "Obat_R        = rot @ ((Matrix([350, 398, 0]) - center) * pxToM + Matrix([0,0,batHeight/2]))\n",
    "\n",
    "#Computer Parameters\n",
    "compLength   = 0.00486 #m\n",
    "compWidth    = 0.00466 #m\n",
    "compHeight   = 0.0026  #m\n",
    "\n",
    "Ocomp_R       = Matrix([0,0,compHeight/2])\n",
    "\n",
    "#Propeller Paramaters\n",
    "spokeLength  = 0.13 #m\n",
    "spokeMass    = propellerMass / 3\n",
    "\n",
    "Oprop_R1     = Omotor_R1 + Matrix([0,0,motorHeight])\n",
    "Oprop_R2     = Omotor_R2 + Matrix([0,0,motorHeight])\n",
    "Oprop_R3     = Omotor_R3 + Matrix([0,0,motorHeight])\n",
    "Oprop_R4     = Omotor_R4 + Matrix([0,0,motorHeight])\n",
    "\n",
    "#Radio Parameter \n",
    "Oradio_R      = rot @ ((Matrix([350, 580, 0]) - center) * pxToM + Oframeplate2_R)"
   ]
  },
  {
   "cell_type": "code",
   "execution_count": 51,
   "id": "11c746fe-b991-4727-be48-ec06079a86cf",
   "metadata": {
    "tags": []
   },
   "outputs": [],
   "source": [
    "#Center of Mass\n",
    "\n",
    "m_total      = motorMass*4 + frameMass + batteryMass + computerMass + propellerMass*4 + radioMass\n",
    "\n",
    "weightAve    = (motorMass*Omotor_R1 + motorMass*Omotor_R2 + motorMass*Omotor_R3 + motorMass*Omotor_R4 + (centerMass/2 + armMass*4)*Oframeplate1_R + (centerMass/2)*Oframeplate2_R + \n",
    "                batteryMass*Obat_R + computerMass*Ocomp_R + propellerMass*Oprop_R1 + propellerMass*Oprop_R2 + propellerMass*Oprop_R3 + propellerMass*Oprop_R4 + radioMass*Oradio_R )\n",
    "\n",
    "COM          = (weightAve / m_total).evalf()\n",
    "\n",
    "motor_R1     = Omotor_R1      - COM\n",
    "motor_R2     = Omotor_R2      - COM\n",
    "motor_R3     = Omotor_R3      - COM\n",
    "motor_R4     = Omotor_R4      - COM\n",
    "\n",
    "frameplate1_R= Oframeplate1_R - COM\n",
    "frameplate2_R= Oframeplate2_R - COM\n",
    "\n",
    "bat_R        = Obat_R         - COM\n",
    "\n",
    "comp_R       = Ocomp_R        - COM\n",
    "\n",
    "prop_R1      = Oprop_R1       - COM\n",
    "prop_R2      = Oprop_R2       - COM\n",
    "prop_R3      = Oprop_R3       - COM\n",
    "prop_R4      = Oprop_R4       - COM\n",
    "\n",
    "radio_R      = Oradio_R       - COM\n"
   ]
  },
  {
   "cell_type": "code",
   "execution_count": 52,
   "id": "04505213-f67f-414c-a4a1-b3e004de2f8c",
   "metadata": {
    "tags": []
   },
   "outputs": [],
   "source": [
    "#Moment Of Interia Point Mass Approximation\n",
    "\n",
    "MI_list = [[0,0,0],[0,0,0],[0,0,0]]\n",
    "\n",
    "\n",
    "for i in range(3):\n",
    "    for j in range(3):\n",
    "        if (i != j):\n",
    "            MI_list[i][j] = -(motorMass*motor_R1[i]*motor_R1[j] + motorMass*motor_R2[i]*motor_R2[j] + motorMass*motor_R3[i]*motor_R3[j] + motorMass*motor_R4[i]*motor_R4[j] + \n",
    "                             (centerMass/2 + armMass*4)*frameplate1_R[i]*frameplate1_R[j] + (centerMass/2)*frameplate2_R[i]*frameplate2_R[j] + batteryMass*bat_R[i]*bat_R[j] + \n",
    "                              computerMass*comp_R[i]*comp_R[j] + propellerMass*prop_R1[i]*prop_R1[j] + propellerMass*prop_R2[i]*prop_R2[j] + propellerMass*prop_R3[i]*prop_R3[j] +\n",
    "                              propellerMass*prop_R4[i]*prop_R4[j] + radioMass*radio_R[i]*radio_R[j] )\n",
    "\n",
    "\n",
    "MI_list[0][0] = (motorMass*(motor_R1[1]**2+motor_R1[2]**2) + motorMass*(motor_R2[1]**2+motor_R2[2]**2) + motorMass*(motor_R3[1]**2+motor_R3[2]**2) + motorMass*(motor_R4[1]**2+motor_R4[2]**2) + \n",
    "                             (centerMass/2 + armMass*4)*(frameplate1_R[1]**2+frameplate1_R[2]**2) + (centerMass/2)*(frameplate2_R[1]**2+frameplate2_R[2]**2) + batteryMass*(bat_R[1]**2+bat_R[2]**2) + \n",
    "                              computerMass*(comp_R[1]**2+comp_R[2]**2) + propellerMass*(prop_R1[1]**2+prop_R1[2]**2) + propellerMass*(prop_R2[1]**2+prop_R2[2]**2) + propellerMass*(prop_R3[1]**2+prop_R3[2]**2) +\n",
    "                              propellerMass*(prop_R4[1]**2+prop_R4[2]**2) + radioMass*(radio_R[1]**2+radio_R[2]**2) )\n",
    "\n",
    "MI_list[1][1] = (motorMass*(motor_R1[0]**2+motor_R1[2]**2) + motorMass*(motor_R2[0]**2+motor_R2[2]**2) + motorMass*(motor_R3[0]**2+motor_R3[2]**2) + motorMass*(motor_R4[0]**2+motor_R4[2]**2) + \n",
    "                             (centerMass/2 + armMass*4)*(frameplate1_R[0]**2+frameplate1_R[2]**2) + (centerMass/2)*(frameplate2_R[0]**2+frameplate2_R[2]**2) + batteryMass*(bat_R[0]**2+bat_R[2]**2) + \n",
    "                              computerMass*(comp_R[0]**2+comp_R[2]**2) + propellerMass*(prop_R1[0]**2+prop_R1[2]**2) + propellerMass*(prop_R2[0]**2+prop_R2[2]**2) + propellerMass*(prop_R3[0]**2+prop_R3[2]**2) +\n",
    "                              propellerMass*(prop_R4[0]**2+prop_R4[2]**2) + radioMass*(radio_R[0]**2+radio_R[2]**2) )\n",
    "\n",
    "MI_list[2][2] = (motorMass*(motor_R1[0]**2+motor_R1[1]**2) + motorMass*(motor_R2[0]**2+motor_R2[1]**2) + motorMass*(motor_R3[0]**2+motor_R3[1]**2) + motorMass*(motor_R4[0]**2+motor_R4[1]**2) + \n",
    "                             (centerMass/2 + armMass*4)*(frameplate1_R[0]**2+frameplate1_R[1]**2) + (centerMass/2)*(frameplate2_R[0]**2+frameplate2_R[1]**2) + batteryMass*(bat_R[0]**2+bat_R[1]**2) + \n",
    "                              computerMass*(comp_R[0]**2+comp_R[1]**2) + propellerMass*(prop_R1[0]**2+prop_R1[1]**2) + propellerMass*(prop_R2[0]**2+prop_R2[1]**2) + propellerMass*(prop_R3[0]**2+prop_R3[1]**2) +\n",
    "                              propellerMass*(prop_R4[0]**2+prop_R4[1]**2) + radioMass*(radio_R[0]**2+radio_R[1]**2) )\n",
    "\n",
    "MI = Matrix(MI_list).evalf()"
   ]
  },
  {
   "cell_type": "code",
   "execution_count": 53,
   "id": "928c0841-75f9-4b3a-8b78-23410bcbd026",
   "metadata": {
    "tags": []
   },
   "outputs": [],
   "source": [
    "t = symbols(\"t\")\n",
    "phi = Function('phi')(t)\n",
    "theta = Function('theta')(t)\n",
    "psi = Function('psi')(t)\n",
    "R1 = Matrix([[cos(phi),-sin(phi),0],[sin(phi),cos(phi),0],[0,0,1]])\n",
    "R2 = Matrix([[1,0,0],[0,cos(theta),-sin(theta)],[0,sin(theta),cos(theta)]])\n",
    "R3 = Matrix([[cos(psi),-sin(psi),0],[sin(psi),cos(psi),0],[0,0,1]])\n",
    "\n",
    "R = R3 @ R2 @ R1"
   ]
  },
  {
   "cell_type": "code",
   "execution_count": 54,
   "id": "756fdbb2-590f-4392-94a5-4dae948e513e",
   "metadata": {
    "tags": []
   },
   "outputs": [
    {
     "data": {
      "text/plain": [
       "0.5802999999999999"
      ]
     },
     "execution_count": 54,
     "metadata": {},
     "output_type": "execute_result"
    }
   ],
   "source": [
    "m_total"
   ]
  },
  {
   "cell_type": "code",
   "execution_count": 55,
   "id": "80e9d10c-d2d5-4017-8949-6bc42289daaa",
   "metadata": {
    "tags": []
   },
   "outputs": [
    {
     "data": {
      "text/latex": [
       "$\\displaystyle \\left[\\begin{matrix}0.00734390711247691\\\\-0.00901297691076712\\\\0.00122287202080556\\end{matrix}\\right]$"
      ],
      "text/plain": [
       "Matrix([\n",
       "[ 0.00734390711247691],\n",
       "[-0.00901297691076712],\n",
       "[ 0.00122287202080556]])"
      ]
     },
     "execution_count": 55,
     "metadata": {},
     "output_type": "execute_result"
    }
   ],
   "source": [
    "COM"
   ]
  },
  {
   "cell_type": "code",
   "execution_count": 56,
   "id": "f48449b0-b591-4ec8-b001-f3b3cbb6245e",
   "metadata": {
    "tags": []
   },
   "outputs": [
    {
     "name": "stdout",
     "output_type": "stream",
     "text": [
      "Matrix([[0.000778741496230108, 4.67668921063893e-5, -2.89783065857405e-6], [4.67668921063893e-5, 0.000759452121539762, 3.55642853552270e-6], [-2.89783065857405e-6, 3.55642853552270e-6, 0.00153725292232051]])\n"
     ]
    }
   ],
   "source": [
    "print(MI)"
   ]
  },
  {
   "cell_type": "code",
   "execution_count": 57,
   "id": "618c7c4d-56fe-4a86-8807-c5f58c22dcb3",
   "metadata": {
    "tags": []
   },
   "outputs": [
    {
     "data": {
      "text/latex": [
       "$\\displaystyle \\left[\\begin{matrix}0.101010335883857\\\\0.00901297691076712\\\\-0.00122287202080556\\end{matrix}\\right]$"
      ],
      "text/plain": [
       "Matrix([\n",
       "[   0.101010335883857],\n",
       "[ 0.00901297691076712],\n",
       "[-0.00122287202080556]])"
      ]
     },
     "execution_count": 57,
     "metadata": {},
     "output_type": "execute_result"
    }
   ],
   "source": [
    "motor_R1"
   ]
  },
  {
   "cell_type": "code",
   "execution_count": 58,
   "id": "24357ec6-8ba9-4ccc-813a-e2aba88167d1",
   "metadata": {},
   "outputs": [
    {
     "data": {
      "text/latex": [
       "$\\displaystyle \\left[\\begin{matrix}0.00862338137523516\\\\-0.0105832407786977\\\\0.000677127979194443\\end{matrix}\\right]$"
      ],
      "text/plain": [
       "Matrix([\n",
       "[ 0.00862338137523516],\n",
       "[ -0.0105832407786977],\n",
       "[0.000677127979194443]])"
      ]
     },
     "execution_count": 58,
     "metadata": {},
     "output_type": "execute_result"
    }
   ],
   "source": [
    "bat_R"
   ]
  },
  {
   "cell_type": "code",
   "execution_count": 59,
   "id": "d7bbd127-0820-4d0b-bee0-643ff0904127",
   "metadata": {
    "tags": []
   },
   "outputs": [],
   "source": [
    "#Torque calc\n",
    "kv      = 1750 #rpm/v from motor\n",
    "V       = 22.2 #v from battery\n",
    "Amax    = 55   #from ESC\n",
    "kt      = ((kv*2*np.pi)/60) #https://www.tytorobotics.com/blogs/articles/how-to-calculate-electric-motor-torque\n",
    "\n",
    "C       = (kv*V*2*np.pi)/60 # max rad/s\n",
    "Tmax    = kt*Amax\n",
    "B       = C/Tmax\n",
    "\n",
    "Ct      = 1       #Thrust coeffecient need to find\n",
    "rho     = 1.293   #kg/m3 atmo density\n",
    "D       = 0.12954 #m for 5.1 inch rotors\n",
    "def Tmotor(F):\n",
    "    rads = 2*np.pi*np.sqrt((F)/(Ct*rho*D**4))\n",
    "    T    = (rads - C)/(-B)\n",
    "    return T"
   ]
  },
  {
   "cell_type": "code",
   "execution_count": 60,
   "id": "fa048fea-2ddc-451e-93d0-4a11dc9d5d9c",
   "metadata": {
    "tags": []
   },
   "outputs": [
    {
     "data": {
      "text/plain": [
       "9106.051268099282"
      ]
     },
     "execution_count": 60,
     "metadata": {},
     "output_type": "execute_result"
    }
   ],
   "source": [
    "#motor toque for pure hover\n",
    "g = 9.81\n",
    "fPermotor = (m_total*g)/4\n",
    "Tmotor(fPermotor)\n"
   ]
  },
  {
   "cell_type": "code",
   "execution_count": 61,
   "id": "03820eb3-f0ca-42f7-bcff-e1bc8d001e7c",
   "metadata": {
    "tags": []
   },
   "outputs": [
    {
     "name": "stdout",
     "output_type": "stream",
     "text": [
      "1.423301280319702\n",
      "[0.01813437 1.42318575]\n",
      "9106.011767024882\n",
      "-0.0127414103580744\n",
      "0.999979707126395\n",
      "-0.00637066208567390\n",
      "Matrix([[0], [0], [0.250000000000000]])\n"
     ]
    }
   ],
   "source": [
    "#motor toque and angle for circle\n",
    "g = 9.81\n",
    "altF = (m_total*g)/4\n",
    "\n",
    "v = 0.5\n",
    "r = 2\n",
    "\n",
    "circF = ((v**2/r)*m_total)/4\n",
    "\n",
    "Force  = np.array([circF,altF])\n",
    "T_ = Tmotor(np.linalg.norm(Force))\n",
    "phiR    = -atan(Force[0]/Force[1])\n",
    "\n",
    "interial_rot = Matrix([0,0,v/r])\n",
    "\n",
    "rot = R.subs(theta,0).subs(psi,0).subs(phi,phiR) @ interial_rot\n",
    "\n",
    "print(np.linalg.norm(Force))\n",
    "\n",
    "q0 = cos(phiR/2) \n",
    "q1 = sin(phiR/2)\n",
    "q2 = 0\n",
    "q3 = 0\n",
    "\n",
    "\n",
    "print(Force)\n",
    "print(T_)\n",
    "print(phiR)\n",
    "print(q0)\n",
    "print(q1)\n",
    "print(rot)"
   ]
  },
  {
   "cell_type": "code",
   "execution_count": null,
   "id": "13387b6e-9cbd-46ae-8687-0590725781dc",
   "metadata": {},
   "outputs": [],
   "source": []
  }
 ],
 "metadata": {
  "kernelspec": {
   "display_name": "Python 3 (ipykernel)",
   "language": "python",
   "name": "python3"
  },
  "language_info": {
   "codemirror_mode": {
    "name": "ipython",
    "version": 3
   },
   "file_extension": ".py",
   "mimetype": "text/x-python",
   "name": "python",
   "nbconvert_exporter": "python",
   "pygments_lexer": "ipython3",
   "version": "3.11.5"
  }
 },
 "nbformat": 4,
 "nbformat_minor": 5
}
