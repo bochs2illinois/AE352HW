{
 "cells": [
  {
   "cell_type": "code",
   "execution_count": 18,
   "id": "2640557c-91ac-4711-a50d-d11c40798494",
   "metadata": {
    "tags": []
   },
   "outputs": [
    {
     "name": "stdin",
     "output_type": "stream",
     "text": [
      "Once deleted, variables cannot be recovered. Proceed (y/[n])?  y\n"
     ]
    }
   ],
   "source": [
    "%reset\n",
    "from sympy import *\n",
    "import numpy as np\n",
    "import matplotlib.pyplot as plt\n",
    "from mpl_toolkits.mplot3d import Axes3D\n",
    "from matplotlib.animation import FuncAnimation\n",
    "from scipy.spatial.transform import Rotation as R_sci"
   ]
  },
  {
   "cell_type": "code",
   "execution_count": 19,
   "id": "c8767bf5-47da-43e5-9d28-dd9d24e5e7e1",
   "metadata": {
    "tags": []
   },
   "outputs": [],
   "source": [
    "#paramaters\n",
    "t = symbols(\"t\")\n",
    "\n",
    "m = 0.5802999999999999\n",
    "g = -9.81\n",
    "l = 0.108354242996334\n",
    "\n",
    "G = Matrix([0,0,g])\n",
    "\n",
    "\n",
    "\n",
    "MI = Matrix([[0.000778741496230108,                    0,                   0], \n",
    "             [                   0, 0.000759452121539762,                   0], \n",
    "             [                   0,                    0, 0.00153725292232051]]) #Rounded to diagonal"
   ]
  },
  {
   "cell_type": "code",
   "execution_count": 20,
   "id": "cba4e35b-ac68-45fe-a6e6-ccaff2bd2a09",
   "metadata": {
    "tags": []
   },
   "outputs": [],
   "source": [
    "#Interial Frame Vectors\n",
    "x = Function('x')(t)\n",
    "y = Function('y')(t)\n",
    "z = Function('z')(t)\n",
    "\n",
    "xd     = diff(x,t)\n",
    "yd     = diff(y,t)\n",
    "zd     = diff(z,t)\n",
    "\n",
    "xdd    = diff(x,(t,2))\n",
    "ydd    = diff(y,(t,2))\n",
    "zdd    = diff(z,(t,2))\n",
    "\n",
    "X_i    = Matrix([x,y,z])\n",
    "Xd_i   = Matrix([xd, yd, zd])\n",
    "Xdd_i  = Matrix([xdd, ydd, zdd])\n"
   ]
  },
  {
   "cell_type": "code",
   "execution_count": 21,
   "id": "ad65289e-70f3-458d-8c96-767e9d25efd7",
   "metadata": {
    "tags": []
   },
   "outputs": [],
   "source": [
    "#Rotation Setup\n",
    "#Euler\n",
    "phi    = Function('phi')(t)\n",
    "theta  = Function('theta')(t)\n",
    "psi    = Function('psi')(t)\n",
    "\n",
    "T_i    = Matrix([phi, theta, psi])\n",
    "\n",
    "#Quaternians\n",
    "q0     = Function('q0')(t)\n",
    "q1     = Function('q1')(t)\n",
    "q2     = Function('q2')(t)\n",
    "q3     = Function('q3')(t)\n",
    "\n",
    "q = Matrix([q0,q1,q2,q3])\n",
    "\n",
    "phi   = atan2(2*(q0*q1 + q2*q3), q0**2 - q1**2 - q2**2 + q3**2)\n",
    "theta = asin(2*(q0*q2 - q3*q1))\n",
    "psi   = atan2(2*(q0*q3 + q2*q1), q0**2 + q1**2 - q2**2 - q3**2)\n",
    "\n",
    "wx    = Function('wx')(t)\n",
    "wy    = Function('wy')(t)\n",
    "wz    = Function('wz')(t)\n",
    "\n",
    "wxd   = diff(wx,t)\n",
    "wyd   = diff(wy,t)\n",
    "wzd   = diff(wz,t)\n",
    "\n",
    "w     = Matrix([wx,wy,wz])\n",
    "\n",
    "wd    = Matrix([wxd,wyd,wzd])\n",
    "\n",
    "p    = Matrix([0,wx,wy,wz])\n",
    "\n",
    "Q     = Matrix([[q0,-q1,-q2,-q3],\n",
    "                [q1, q0, q3,-q2],\n",
    "                [q2,-q3, q0, q1],\n",
    "                [q3, q2,-q1, q0]])\n",
    "\n",
    "qd = (-1/2) * Matrix([p[0]*q0 - p[1]*q1 - p[2]*q2 - p[3]*q3,\n",
    "                      p[0]*q1 + p[1]*q0 + p[2]*q3 - p[3]*q2,\n",
    "                      p[0]*q2 - p[1]*q3 + p[2]*q0 + p[3]*q1,\n",
    "                      p[0]*q3 + p[1]*q2 - p[2]*q1 + p[3]*q0])"
   ]
  },
  {
   "cell_type": "code",
   "execution_count": 22,
   "id": "34d8af78-7115-4987-88aa-030c8f08d02c",
   "metadata": {
    "tags": []
   },
   "outputs": [],
   "source": [
    "#Rotation Matrix\n",
    "Rx = Matrix([[1,0,0],[0,cos(phi),-sin(phi)],[0,sin(phi),cos(phi)]])\n",
    "Ry = Matrix([[cos(theta),0,-sin(theta)],[0,1,0],[sin(theta),0,cos(theta)]])\n",
    "Rz = Matrix([[cos(psi),-sin(psi),0],[sin(psi),cos(psi),0],[0,0,1]])\n",
    "\n",
    "R = Rz @ Ry @ Rx"
   ]
  },
  {
   "cell_type": "code",
   "execution_count": 23,
   "id": "2994378a-a238-478c-9ec9-ad3d825ea06b",
   "metadata": {
    "tags": []
   },
   "outputs": [],
   "source": [
    "#Newton & Quaternians\n",
    "\n",
    "F1, F2, F3, F4 = symbols(\"F1, F2, F3, F4\")\n",
    "T1, T2, T3, T4 = symbols(\"T1, T2, T3, T4\")\n",
    "\n",
    "F1_rotor = Matrix([0,0,F1]) \n",
    "F2_rotor = Matrix([0,0,F2])\n",
    "F3_rotor = Matrix([0,0,F3])\n",
    "F4_rotor = Matrix([0,0,F4])\n",
    "\n",
    "T1_rotor = Matrix([0,0,T1])\n",
    "T2_rotor = Matrix([0,0,T2])\n",
    "T3_rotor = Matrix([0,0,T3])\n",
    "T4_rotor = Matrix([0,0,T4])\n",
    "\n",
    "R1_rotor = Matrix([l,0,0])\n",
    "R2_rotor = Matrix([0,l,0])\n",
    "R3_rotor = Matrix([-l,0,0])\n",
    "R4_rotor = Matrix([0,-l,0])"
   ]
  },
  {
   "cell_type": "code",
   "execution_count": 24,
   "id": "02f0abc7-e6cc-4cf6-9174-bf2c636382b7",
   "metadata": {
    "tags": []
   },
   "outputs": [],
   "source": [
    "XDD = ((m*G + R @ F1_rotor + R @ F2_rotor + R @ F3_rotor + R @ F4_rotor)/m)"
   ]
  },
  {
   "cell_type": "code",
   "execution_count": 25,
   "id": "766a8326-0b2a-4073-b6b1-56d8ed409423",
   "metadata": {
    "tags": []
   },
   "outputs": [],
   "source": [
    "Torque =  (T1_rotor + T2_rotor + T3_rotor + T4_rotor + R1_rotor.cross(F1_rotor) + R2_rotor.cross(F2_rotor) + R3_rotor.cross(F3_rotor) + R4_rotor.cross(F4_rotor)) \n",
    "wd = MI.inv() @ Torque - MI.inv() @ (w.cross(MI @ w))"
   ]
  },
  {
   "cell_type": "code",
   "execution_count": 26,
   "id": "a533dc49-4581-4c01-ad2a-e45d8e4e2bcb",
   "metadata": {
    "tags": []
   },
   "outputs": [
    {
     "data": {
      "text/latex": [
       "$\\displaystyle \\frac{\\left(6.89298638635189 \\left(q_{0}{\\left(t \\right)} q_{1}{\\left(t \\right)} + q_{2}{\\left(t \\right)} q_{3}{\\left(t \\right)}\\right) \\left(q_{0}{\\left(t \\right)} q_{3}{\\left(t \\right)} + q_{1}{\\left(t \\right)} q_{2}{\\left(t \\right)}\\right) - 3.44649319317594 \\left(q_{0}{\\left(t \\right)} q_{2}{\\left(t \\right)} - q_{1}{\\left(t \\right)} q_{3}{\\left(t \\right)}\\right) \\left(q_{0}^{2}{\\left(t \\right)} - q_{1}^{2}{\\left(t \\right)} - q_{2}^{2}{\\left(t \\right)} + q_{3}^{2}{\\left(t \\right)}\\right) \\left(q_{0}^{2}{\\left(t \\right)} + q_{1}^{2}{\\left(t \\right)} - q_{2}^{2}{\\left(t \\right)} - q_{3}^{2}{\\left(t \\right)}\\right)\\right) \\left(F_{1} + F_{2} + F_{3} + F_{4}\\right)}{\\sqrt{4 \\left(q_{0}{\\left(t \\right)} q_{1}{\\left(t \\right)} + q_{2}{\\left(t \\right)} q_{3}{\\left(t \\right)}\\right)^{2} + \\left(q_{0}^{2}{\\left(t \\right)} - q_{1}^{2}{\\left(t \\right)} - q_{2}^{2}{\\left(t \\right)} + q_{3}^{2}{\\left(t \\right)}\\right)^{2}} \\sqrt{4 \\left(q_{0}{\\left(t \\right)} q_{3}{\\left(t \\right)} + q_{1}{\\left(t \\right)} q_{2}{\\left(t \\right)}\\right)^{2} + \\left(q_{0}^{2}{\\left(t \\right)} + q_{1}^{2}{\\left(t \\right)} - q_{2}^{2}{\\left(t \\right)} - q_{3}^{2}{\\left(t \\right)}\\right)^{2}}}$"
      ],
      "text/plain": [
       "(6.89298638635189*(q0(t)*q1(t) + q2(t)*q3(t))*(q0(t)*q3(t) + q1(t)*q2(t)) - 3.44649319317594*(q0(t)*q2(t) - q1(t)*q3(t))*(q0(t)**2 - q1(t)**2 - q2(t)**2 + q3(t)**2)*(q0(t)**2 + q1(t)**2 - q2(t)**2 - q3(t)**2))*(F1 + F2 + F3 + F4)/(sqrt(4*(q0(t)*q1(t) + q2(t)*q3(t))**2 + (q0(t)**2 - q1(t)**2 - q2(t)**2 + q3(t)**2)**2)*sqrt(4*(q0(t)*q3(t) + q1(t)*q2(t))**2 + (q0(t)**2 + q1(t)**2 - q2(t)**2 - q3(t)**2)**2))"
      ]
     },
     "execution_count": 26,
     "metadata": {},
     "output_type": "execute_result"
    }
   ],
   "source": [
    "XDD[0].simplify()"
   ]
  },
  {
   "cell_type": "code",
   "execution_count": 27,
   "id": "011cd47e-f7e1-401b-a2de-5c98355446c1",
   "metadata": {
    "tags": []
   },
   "outputs": [
    {
     "data": {
      "text/latex": [
       "$\\displaystyle \\frac{\\left(3.44649319317594 \\left(q_{0}{\\left(t \\right)} q_{1}{\\left(t \\right)} + q_{2}{\\left(t \\right)} q_{3}{\\left(t \\right)}\\right) \\left(q_{0}^{2}{\\left(t \\right)} + q_{1}^{2}{\\left(t \\right)} - q_{2}^{2}{\\left(t \\right)} - q_{3}^{2}{\\left(t \\right)}\\right) + 6.89298638635189 \\left(q_{0}{\\left(t \\right)} q_{2}{\\left(t \\right)} - q_{1}{\\left(t \\right)} q_{3}{\\left(t \\right)}\\right) \\left(q_{0}{\\left(t \\right)} q_{3}{\\left(t \\right)} + q_{1}{\\left(t \\right)} q_{2}{\\left(t \\right)}\\right) \\left(q_{0}^{2}{\\left(t \\right)} - q_{1}^{2}{\\left(t \\right)} - q_{2}^{2}{\\left(t \\right)} + q_{3}^{2}{\\left(t \\right)}\\right)\\right) \\left(- F_{1} - F_{2} - F_{3} - F_{4}\\right)}{\\sqrt{4 \\left(q_{0}{\\left(t \\right)} q_{1}{\\left(t \\right)} + q_{2}{\\left(t \\right)} q_{3}{\\left(t \\right)}\\right)^{2} + \\left(q_{0}^{2}{\\left(t \\right)} - q_{1}^{2}{\\left(t \\right)} - q_{2}^{2}{\\left(t \\right)} + q_{3}^{2}{\\left(t \\right)}\\right)^{2}} \\sqrt{4 \\left(q_{0}{\\left(t \\right)} q_{3}{\\left(t \\right)} + q_{1}{\\left(t \\right)} q_{2}{\\left(t \\right)}\\right)^{2} + \\left(q_{0}^{2}{\\left(t \\right)} + q_{1}^{2}{\\left(t \\right)} - q_{2}^{2}{\\left(t \\right)} - q_{3}^{2}{\\left(t \\right)}\\right)^{2}}}$"
      ],
      "text/plain": [
       "(3.44649319317594*(q0(t)*q1(t) + q2(t)*q3(t))*(q0(t)**2 + q1(t)**2 - q2(t)**2 - q3(t)**2) + 6.89298638635189*(q0(t)*q2(t) - q1(t)*q3(t))*(q0(t)*q3(t) + q1(t)*q2(t))*(q0(t)**2 - q1(t)**2 - q2(t)**2 + q3(t)**2))*(-F1 - F2 - F3 - F4)/(sqrt(4*(q0(t)*q1(t) + q2(t)*q3(t))**2 + (q0(t)**2 - q1(t)**2 - q2(t)**2 + q3(t)**2)**2)*sqrt(4*(q0(t)*q3(t) + q1(t)*q2(t))**2 + (q0(t)**2 + q1(t)**2 - q2(t)**2 - q3(t)**2)**2))"
      ]
     },
     "execution_count": 27,
     "metadata": {},
     "output_type": "execute_result"
    }
   ],
   "source": [
    "XDD[1].simplify()"
   ]
  },
  {
   "cell_type": "code",
   "execution_count": 28,
   "id": "eb7102b0-f2f8-40a6-8ca0-22d6353ebf52",
   "metadata": {
    "tags": []
   },
   "outputs": [
    {
     "data": {
      "text/latex": [
       "$\\displaystyle \\frac{1.72324659658797 F_{1} \\sqrt{1 - 4 \\left(q_{0}{\\left(t \\right)} q_{2}{\\left(t \\right)} - q_{1}{\\left(t \\right)} q_{3}{\\left(t \\right)}\\right)^{2}} \\left(q_{0}^{2}{\\left(t \\right)} - q_{1}^{2}{\\left(t \\right)} - q_{2}^{2}{\\left(t \\right)} + q_{3}^{2}{\\left(t \\right)}\\right) + 1.72324659658797 F_{2} \\sqrt{1 - 4 \\left(q_{0}{\\left(t \\right)} q_{2}{\\left(t \\right)} - q_{1}{\\left(t \\right)} q_{3}{\\left(t \\right)}\\right)^{2}} \\left(q_{0}^{2}{\\left(t \\right)} - q_{1}^{2}{\\left(t \\right)} - q_{2}^{2}{\\left(t \\right)} + q_{3}^{2}{\\left(t \\right)}\\right) + 1.72324659658797 F_{3} \\sqrt{1 - 4 \\left(q_{0}{\\left(t \\right)} q_{2}{\\left(t \\right)} - q_{1}{\\left(t \\right)} q_{3}{\\left(t \\right)}\\right)^{2}} \\left(q_{0}^{2}{\\left(t \\right)} - q_{1}^{2}{\\left(t \\right)} - q_{2}^{2}{\\left(t \\right)} + q_{3}^{2}{\\left(t \\right)}\\right) + 1.72324659658797 F_{4} \\sqrt{1 - 4 \\left(q_{0}{\\left(t \\right)} q_{2}{\\left(t \\right)} - q_{1}{\\left(t \\right)} q_{3}{\\left(t \\right)}\\right)^{2}} \\left(q_{0}^{2}{\\left(t \\right)} - q_{1}^{2}{\\left(t \\right)} - q_{2}^{2}{\\left(t \\right)} + q_{3}^{2}{\\left(t \\right)}\\right) - 9.81 \\sqrt{4 \\left(q_{0}{\\left(t \\right)} q_{1}{\\left(t \\right)} + q_{2}{\\left(t \\right)} q_{3}{\\left(t \\right)}\\right)^{2} + \\left(q_{0}^{2}{\\left(t \\right)} - q_{1}^{2}{\\left(t \\right)} - q_{2}^{2}{\\left(t \\right)} + q_{3}^{2}{\\left(t \\right)}\\right)^{2}}}{\\sqrt{4 \\left(q_{0}{\\left(t \\right)} q_{1}{\\left(t \\right)} + q_{2}{\\left(t \\right)} q_{3}{\\left(t \\right)}\\right)^{2} + \\left(q_{0}^{2}{\\left(t \\right)} - q_{1}^{2}{\\left(t \\right)} - q_{2}^{2}{\\left(t \\right)} + q_{3}^{2}{\\left(t \\right)}\\right)^{2}}}$"
      ],
      "text/plain": [
       "(1.72324659658797*F1*sqrt(1 - 4*(q0(t)*q2(t) - q1(t)*q3(t))**2)*(q0(t)**2 - q1(t)**2 - q2(t)**2 + q3(t)**2) + 1.72324659658797*F2*sqrt(1 - 4*(q0(t)*q2(t) - q1(t)*q3(t))**2)*(q0(t)**2 - q1(t)**2 - q2(t)**2 + q3(t)**2) + 1.72324659658797*F3*sqrt(1 - 4*(q0(t)*q2(t) - q1(t)*q3(t))**2)*(q0(t)**2 - q1(t)**2 - q2(t)**2 + q3(t)**2) + 1.72324659658797*F4*sqrt(1 - 4*(q0(t)*q2(t) - q1(t)*q3(t))**2)*(q0(t)**2 - q1(t)**2 - q2(t)**2 + q3(t)**2) - 9.81*sqrt(4*(q0(t)*q1(t) + q2(t)*q3(t))**2 + (q0(t)**2 - q1(t)**2 - q2(t)**2 + q3(t)**2)**2))/sqrt(4*(q0(t)*q1(t) + q2(t)*q3(t))**2 + (q0(t)**2 - q1(t)**2 - q2(t)**2 + q3(t)**2)**2)"
      ]
     },
     "execution_count": 28,
     "metadata": {},
     "output_type": "execute_result"
    }
   ],
   "source": [
    "XDD[2].simplify()"
   ]
  },
  {
   "cell_type": "code",
   "execution_count": 29,
   "id": "7e7d610d-cb98-4ea3-aba5-1f25ce29b6a0",
   "metadata": {
    "tags": []
   },
   "outputs": [
    {
     "data": {
      "text/latex": [
       "$\\displaystyle 139.140194173391 F_{2} - 139.140194173391 F_{4} - 0.998792031176053 \\operatorname{wy}{\\left(t \\right)} \\operatorname{wz}{\\left(t \\right)}$"
      ],
      "text/plain": [
       "139.140194173391*F2 - 139.140194173391*F4 - 0.998792031176053*wy(t)*wz(t)"
      ]
     },
     "execution_count": 29,
     "metadata": {},
     "output_type": "execute_result"
    }
   ],
   "source": [
    "wd[0]"
   ]
  },
  {
   "cell_type": "code",
   "execution_count": 30,
   "id": "66e30be7-c2f7-4383-90bc-1d9c3ec74618",
   "metadata": {
    "tags": []
   },
   "outputs": [
    {
     "data": {
      "text/latex": [
       "$\\displaystyle - 142.674225172549 F_{1} + 142.674225172549 F_{3} + 0.998761349895958 \\operatorname{wx}{\\left(t \\right)} \\operatorname{wz}{\\left(t \\right)}$"
      ],
      "text/plain": [
       "-142.674225172549*F1 + 142.674225172549*F3 + 0.998761349895958*wx(t)*wz(t)"
      ]
     },
     "execution_count": 30,
     "metadata": {},
     "output_type": "execute_result"
    }
   ],
   "source": [
    "wd[1]"
   ]
  },
  {
   "cell_type": "code",
   "execution_count": 31,
   "id": "49ea694a-7c17-410a-a555-bd1fac657e3c",
   "metadata": {
    "tags": []
   },
   "outputs": [
    {
     "data": {
      "text/latex": [
       "$\\displaystyle 650.511041794269 T_{1} + 650.511041794269 T_{2} + 650.511041794269 T_{3} + 650.511041794269 T_{4} + 0.012547951225377 \\operatorname{wx}{\\left(t \\right)} \\operatorname{wy}{\\left(t \\right)}$"
      ],
      "text/plain": [
       "650.511041794269*T1 + 650.511041794269*T2 + 650.511041794269*T3 + 650.511041794269*T4 + 0.012547951225377*wx(t)*wy(t)"
      ]
     },
     "execution_count": 31,
     "metadata": {},
     "output_type": "execute_result"
    }
   ],
   "source": [
    "wd[2]"
   ]
  },
  {
   "cell_type": "code",
   "execution_count": 32,
   "id": "68840e85-70b5-45b2-9e65-e5f074e859a5",
   "metadata": {
    "tags": []
   },
   "outputs": [],
   "source": [
    "#Motor Functions\n",
    "kv      = 1750 #rpm/v from motor\n",
    "V       = 22.2 #v from battery\n",
    "Amax    = 55   #from ESC\n",
    "kt      = ((kv*2*np.pi)/60) #https://www.tytorobotics.com/blogs/articles/how-to-calculate-electric-motor-torque\n",
    "\n",
    "C       = (kv*V*2*np.pi)/60 # max rad/s\n",
    "Tmax    = kt*Amax\n",
    "B       = C/Tmax\n",
    "\n",
    "Ct      = 1       #Thrust coeffecient need to find\n",
    "rho     = 1.293   #kg/m3 atmo density\n",
    "D       = 0.12954 #m for 5.1 inch rotors\n",
    "def Fmotor(T):\n",
    "    rads   = -B*T + C\n",
    "    thrust = Ct * rho * (rads/(2*np.pi))**2 * D**4\n",
    "    return thrust\n"
   ]
  },
  {
   "cell_type": "code",
   "execution_count": 33,
   "id": "3804f88f-0151-4715-b894-216d37f90c5d",
   "metadata": {
    "tags": []
   },
   "outputs": [],
   "source": [
    "#Torque & Intial Conditions configuration For 1 Minute Circle with 10 ms accuracy \n",
    "dt        = 0.01  #s\n",
    "T_max     = 60   #s\n",
    "\n",
    "ic_x      = 4     #m\n",
    "ic_xd     = 0.5     #m/s\n",
    "\n",
    "ic_y      = 2     #m\n",
    "ic_yd     = 0     #m/s\n",
    "\n",
    "ic_z      = 1     #m\n",
    "ic_zd     = 0     #m/s\n",
    "\n",
    "ic_q0     = 0.999979707126395     #rad\n",
    "\n",
    "ic_q1     = -0.00637066208567390     #rad\n",
    "\n",
    "ic_q2     = 0     #rad\n",
    "\n",
    "ic_q3     = 0     #rad\n",
    "\n",
    "ic_wx     = 0     #rad/s \n",
    "\n",
    "ic_wy     = 0     #rad/s \n",
    "\n",
    "ic_wz     = .125     #rad/s \n",
    "\n",
    "t1 =  9106.011767024882  #ccw\n",
    "t2 = -9106.011767024882 #cw\n",
    "t3 =  9106.011767024882  #ccw\n",
    "t4 = -9106.011767024882 #cw\n",
    "\n",
    "f1 = Fmotor(t1)\n",
    "f2 = Fmotor(-t2)\n",
    "f3 = Fmotor(t3)\n",
    "f4 = Fmotor(-t4)"
   ]
  },
  {
   "cell_type": "code",
   "execution_count": 34,
   "id": "20d870e0-ac9c-4827-8ed6-b846874280c8",
   "metadata": {},
   "outputs": [
    {
     "name": "stdout",
     "output_type": "stream",
     "text": [
      "0\n",
      "100\n",
      "200\n",
      "300\n",
      "400\n",
      "500\n",
      "600\n",
      "700\n",
      "800\n",
      "900\n",
      "1000\n",
      "1100\n",
      "1200\n",
      "1300\n",
      "1400\n",
      "1500\n",
      "1600\n",
      "1700\n",
      "1800\n",
      "1900\n",
      "2000\n",
      "2100\n",
      "2200\n",
      "2300\n",
      "2400\n",
      "2500\n",
      "2600\n",
      "2700\n",
      "2800\n",
      "2900\n",
      "3000\n",
      "3100\n",
      "3200\n",
      "3300\n",
      "3400\n",
      "3500\n",
      "3600\n",
      "3700\n",
      "3800\n",
      "3900\n",
      "4000\n",
      "4100\n",
      "4200\n",
      "4300\n",
      "4400\n",
      "4500\n",
      "4600\n",
      "4700\n",
      "4800\n",
      "4900\n",
      "5000\n",
      "5100\n",
      "5200\n",
      "5300\n",
      "5400\n",
      "5500\n",
      "5600\n",
      "5700\n",
      "5800\n",
      "5900\n",
      "6000\n",
      "[0.000e+00 1.000e-02 2.000e-02 ... 5.999e+01 6.000e+01 6.001e+01]\n"
     ]
    }
   ],
   "source": [
    "#Simply Propagator\n",
    "\n",
    "T         = np.array([0])\n",
    "\n",
    "x_t       = np.array([ic_x])\n",
    "xd_t      = np.array([ic_xd])\n",
    "\n",
    "y_t       = np.array([ic_y])\n",
    "yd_t      = np.array([ic_yd])\n",
    "\n",
    "z_t       = np.array([ic_z])\n",
    "zd_t      = np.array([ic_zd])\n",
    "\n",
    "xdd_t     = np.array(  [XDD[0].subs(q0,ic_q0).subs(q1,ic_q1).subs(q2,ic_q2).subs(q3,ic_q3).subs(F1,f1).subs(F2,f2).subs(F3,f3).subs(F4,f4)])\n",
    "ydd_t     = np.array(  [XDD[1].subs(q0,ic_q0).subs(q1,ic_q1).subs(q2,ic_q2).subs(q3,ic_q3).subs(F1,f1).subs(F2,f2).subs(F3,f3).subs(F4,f4)])\n",
    "zdd_t     = np.array(  [XDD[2].subs(q0,ic_q0).subs(q1,ic_q1).subs(q2,ic_q2).subs(q3,ic_q3).subs(F1,f1).subs(F2,f2).subs(F3,f3).subs(F4,f4)])\n",
    "\n",
    "q0_t      = np.array([ic_q0])\n",
    "\n",
    "q1_t      = np.array([ic_q1])\n",
    "\n",
    "q2_t      = np.array([ic_q2])\n",
    "\n",
    "q3_t      = np.array([ic_q3])\n",
    "\n",
    "wx_t      = np.array([ic_wx])\n",
    "\n",
    "wy_t      = np.array([ic_wy])\n",
    "\n",
    "wz_t      = np.array([ic_wz])\n",
    "\n",
    "q0d_t      = np.array([-ic_wx*ic_q1 - ic_wy*ic_q2 - ic_wz*ic_q3])\n",
    "\n",
    "q1d_t      = np.array([ ic_wx*ic_q0 + ic_wy*ic_q3 - ic_wz*ic_q2])\n",
    "\n",
    "q2d_t      = np.array([-ic_wx*ic_q3 + ic_wy*ic_q0 + ic_wz*ic_q1])\n",
    "\n",
    "q3d_t      = np.array([ ic_wx*ic_q2 - ic_wy*ic_q1 + ic_wz*ic_q0])\n",
    "\n",
    "wxd_t     = np.array(  [wd[0].subs(q0,ic_q0).subs(q1,ic_q1).subs(q2,ic_q2).subs(q3,ic_q3).subs(F1,f1).subs(F2,f2).subs(F3,f3).subs(F4,f4).subs(T1,t1).subs(T2,t2).subs(T3,t3).subs(T4,t4).subs(wx,ic_wx).subs(wy,ic_wy).subs(wz,ic_wz)])\n",
    "wyd_t     = np.array(  [wd[1].subs(q0,ic_q0).subs(q1,ic_q1).subs(q2,ic_q2).subs(q3,ic_q3).subs(F1,f1).subs(F2,f2).subs(F3,f3).subs(F4,f4).subs(T1,t1).subs(T2,t2).subs(T3,t3).subs(T4,t4).subs(wx,ic_wx).subs(wy,ic_wy).subs(wz,ic_wz)])\n",
    "wzd_t     = np.array(  [wd[2].subs(q0,ic_q0).subs(q1,ic_q1).subs(q2,ic_q2).subs(q3,ic_q3).subs(F1,f1).subs(F2,f2).subs(F3,f3).subs(F4,f4).subs(T1,t1).subs(T2,t2).subs(T3,t3).subs(T4,t4).subs(wx,ic_wx).subs(wy,ic_wy).subs(wz,ic_wz)])\n",
    "\n",
    "p = 0\n",
    "\n",
    "while (T[p] < T_max):\n",
    "    xd_t     = np.append(xd_t,      xd_t[p]     + xdd_t[p]     * dt)\n",
    "    x_t      = np.append(x_t,       x_t[p]      + xd_t[p]      * dt) \n",
    "    yd_t     = np.append(yd_t,      yd_t[p]     + ydd_t[p]     * dt)\n",
    "    y_t      = np.append(y_t,       y_t[p]      + yd_t[p]      * dt)\n",
    "    zd_t     = np.append(zd_t,      zd_t[p]     + zdd_t[p]     * dt)\n",
    "    z_t      = np.append(z_t,       z_t[p]      + zd_t[p]      * dt)\n",
    "    \n",
    "    wx_t     = np.append(wx_t,      wx_t[p]      + wxd_t[p]    * dt)\n",
    "    wy_t     = np.append(wy_t,      wy_t[p]      + wyd_t[p]    * dt)\n",
    "    wz_t     = np.append(wz_t,      wz_t[p]      + wzd_t[p]    * dt)\n",
    "    \n",
    "    q0d_t    = np.append(q0d_t,   -wx_t[p]*q1_t[p] - wy_t[p]*q2_t[p] - wz_t[p]*q3_t[p]) \n",
    "    q1d_t    = np.append(q1d_t,    wx_t[p]*q0_t[p] + wy_t[p]*q3_t[p] - wz_t[p]*q2_t[p]) \n",
    "    q2d_t    = np.append(q2d_t,   -wx_t[p]*q3_t[p] + wy_t[p]*q0_t[p] + wz_t[p]*q1_t[p]) \n",
    "    q3d_t    = np.append(q3d_t,    wx_t[p]*q2_t[p] - wy_t[p]*q1_t[p] + wz_t[p]*q0_t[p]) \n",
    "    \n",
    "    q0_t     = np.append(q0_t,     q0_t[p]      + q0d_t[p]     * dt) \n",
    "    q1_t     = np.append(q1_t,     q1_t[p]      + q1d_t[p]     * dt) \n",
    "    q2_t     = np.append(q2_t,     q2_t[p]      + q2d_t[p]     * dt) \n",
    "    q3_t     = np.append(q3_t,     q3_t[p]      + q3d_t[p]     * dt) \n",
    "    \n",
    "    xdd_t    = np.append(xdd_t,     XDD[0].subs(F1,f1).subs(F2,f2).subs(F3,f3).subs(F4,f4).subs(q0,q0_t[p+1]).subs(q1,q1_t[p+1]).subs(q2,q2_t[p+1]).subs(q3,q3_t[p+1]))\n",
    "    ydd_t    = np.append(ydd_t,     XDD[1].subs(F1,f1).subs(F2,f2).subs(F3,f3).subs(F4,f4).subs(q0,q0_t[p+1]).subs(q1,q1_t[p+1]).subs(q2,q2_t[p+1]).subs(q3,q3_t[p+1]))\n",
    "    zdd_t    = np.append(zdd_t,     XDD[2].subs(F1,f1).subs(F2,f2).subs(F3,f3).subs(F4,f4).subs(q0,q0_t[p+1]).subs(q1,q1_t[p+1]).subs(q2,q2_t[p+1]).subs(q3,q3_t[p+1]))\n",
    "    \n",
    "    wxd_t    = np.append(wxd_t,    wd[0].subs(q0,q0_t[p+1]).subs(q1,q1_t[p+1]).subs(q2,q2_t[p+1]).subs(q3,q3_t[p+1]).subs(F1,f1).subs(F2,f2).subs(F3,f3).subs(F4,f4).subs(T1,t1).subs(T2,t2).subs(T3,t3).subs(T4,t4).subs(wx,wx_t[p+1]).subs(wy,wy_t[p+1]).subs(wz,wz_t[p+1]))\n",
    "    wyd_t    = np.append(wyd_t,    wd[0].subs(q0,q0_t[p+1]).subs(q1,q1_t[p+1]).subs(q2,q2_t[p+1]).subs(q3,q3_t[p+1]).subs(F1,f1).subs(F2,f2).subs(F3,f3).subs(F4,f4).subs(T1,t1).subs(T2,t2).subs(T3,t3).subs(T4,t4).subs(wx,wx_t[p+1]).subs(wy,wy_t[p+1]).subs(wz,wz_t[p+1]))\n",
    "    wzd_t    = np.append(wzd_t,    wd[0].subs(q0,q0_t[p+1]).subs(q1,q1_t[p+1]).subs(q2,q2_t[p+1]).subs(q3,q3_t[p+1]).subs(F1,f1).subs(F2,f2).subs(F3,f3).subs(F4,f4).subs(T1,t1).subs(T2,t2).subs(T3,t3).subs(T4,t4).subs(wx,wx_t[p+1]).subs(wy,wy_t[p+1]).subs(wz,wz_t[p+1]))\n",
    "    \n",
    "    T = np.append(T,T[p] + dt)\n",
    "    \n",
    "    if p % 100 == 0:\n",
    "        print(p)\n",
    "    p = p + 1 \n",
    "    \n",
    "print(T)\n"
   ]
  },
  {
   "cell_type": "code",
   "execution_count": 35,
   "id": "55e27be1-8aa0-4738-8810-856b67863d5e",
   "metadata": {
    "tags": []
   },
   "outputs": [],
   "source": [
    "#quaternians to euler\n",
    "phi_t   = np.array([])\n",
    "theta_t = np.array([])\n",
    "psi_t   = np.array([])\n",
    "\n",
    "for i in range(len(q0_t)):\n",
    "    phi_t = np.append(phi_t, phi.subs(q0,q0_t[i]).subs(q1,q1_t[i]).subs(q2,q2_t[i]).subs(q3,q3_t[i]))\n",
    "    theta_t = np.append(theta_t, theta.subs(q0,q0_t[i]).subs(q1,q1_t[i]).subs(q2,q2_t[i]).subs(q3,q3_t[i]))\n",
    "    psi_t = np.append(psi_t, psi.subs(q0,q0_t[i]).subs(q1,q1_t[i]).subs(q2,q2_t[i]).subs(q3,q3_t[i]))\n",
    "\n",
    "for i in range(len(phi_t)):\n",
    "    if phi_t[i] == nan:\n",
    "        phi_t[i] = 0\n",
    "    if theta_t[i] == nan:\n",
    "        theta_t[i] = 0\n",
    "    if psi_t[i] == nan:\n",
    "        psi_t[i] = 0"
   ]
  },
  {
   "cell_type": "code",
   "execution_count": 38,
   "id": "37da98c5-5afe-4879-83ca-827f8bd823ca",
   "metadata": {
    "tags": []
   },
   "outputs": [],
   "source": [
    "\n",
    "plt.plot(T, x_t, label='x(t)')  \n",
    "plt.plot(T, y_t, label='y(t)')\n",
    "plt.plot(T, z_t, label='z(t)')\n",
    "\n",
    "plt.xlabel('Time in Seconds')\n",
    "plt.ylabel('Displacement in Meters')\n",
    "plt.title('Position for Circle')\n",
    "plt.grid(True, linestyle =':')\n",
    "\n",
    "\n",
    "plt.legend()\n",
    "\n",
    "plt.show()\n"
   ]
  },
  {
   "cell_type": "code",
   "execution_count": 40,
   "id": "016fbdcf-d445-4934-b9e0-2af42397c8d0",
   "metadata": {
    "tags": []
   },
   "outputs": [],
   "source": [
    "plt.plot(T, xd_t, label='x\\'(t)')  \n",
    "plt.plot(T, yd_t, label='y\\'(t)')\n",
    "plt.plot(T, zd_t, label='z\\'(t)')\n",
    "\n",
    "\n",
    "plt.xlabel('Time in Seconds')\n",
    "plt.ylabel('Velocity in Meters per Second')\n",
    "plt.title('Velocity for Circle')\n",
    "plt.grid(True, linestyle =':')\n",
    "\n",
    "plt.legend()\n",
    "\n",
    "plt.show()"
   ]
  },
  {
   "cell_type": "code",
   "execution_count": 42,
   "id": "16c70e40-e92e-41b6-a9b4-1330d518f0b4",
   "metadata": {
    "tags": []
   },
   "outputs": [],
   "source": [
    "plt.plot(T, xdd_t, label='x\\\"(t)')  \n",
    "plt.plot(T, ydd_t, label='y\\\"(t)')\n",
    "plt.plot(T, zdd_t, label='z\\\"(t)')\n",
    "\n",
    "plt.xlabel('Time in Seconds')\n",
    "plt.ylabel('Acceleration in Meters per Second per Second')\n",
    "plt.title('Acceleration for Circle')\n",
    "\n",
    "plt.grid(True, linestyle =':')\n",
    "\n",
    "plt.legend()\n",
    "\n",
    "plt.show()"
   ]
  },
  {
   "cell_type": "code",
   "execution_count": 285,
   "id": "818dc115-8069-471d-91db-ec0c2a3d1503",
   "metadata": {
    "tags": []
   },
   "outputs": [],
   "source": [
    "plt.plot(T, q0_t, label='q0(t)')\n",
    "plt.plot(T, q1_t, label='q1(t)')\n",
    "plt.plot(T, q2_t, label='q2(t)')\n",
    "plt.plot(T, q3_t, label='q3(t)')\n",
    "\n",
    "plt.xlabel('Time in Seconds')\n",
    "plt.ylabel('Mag')\n",
    "plt.title('Quaternians for Circle')\n",
    "plt.grid(True, linestyle =':')\n",
    "\n",
    "plt.legend()\n",
    "\n",
    "plt.show()\n"
   ]
  },
  {
   "cell_type": "code",
   "execution_count": 289,
   "id": "9609e29b-bf27-41c5-83e4-92d5c1701955",
   "metadata": {
    "tags": []
   },
   "outputs": [],
   "source": [
    "plt.plot(T, q0d_t, label='q0\\'(t)')\n",
    "plt.plot(T, q1d_t, label='q1\\'(t)')\n",
    "plt.plot(T, q2d_t, label='q2\\'(t)')\n",
    "plt.plot(T, q3d_t, label='q3\\'(t)')\n",
    "\n",
    "plt.xlabel('Time in Seconds')\n",
    "plt.ylabel('Mag')\n",
    "plt.title('Quaternian Derivatives for Circle')\n",
    "plt.grid(True, linestyle =':')\n",
    "\n",
    "plt.legend()\n",
    "\n",
    "plt.show()"
   ]
  },
  {
   "cell_type": "code",
   "execution_count": 286,
   "id": "b52512b5-da3f-4d0c-ab78-a06b1687005b",
   "metadata": {
    "tags": []
   },
   "outputs": [],
   "source": [
    "plt.plot(T, phi_t, label='phi(t)')\n",
    "plt.plot(T, theta_t, label='theta(t)')\n",
    "plt.plot(T, psi_t, label='psi(t)')\n",
    "\n",
    "plt.xlabel('Time in Seconds')\n",
    "plt.ylabel('Angle in Radians')\n",
    "plt.title('Euler Angles for Circle')\n",
    "plt.grid(True, linestyle =':')\n",
    "\n",
    "plt.legend()\n",
    "\n",
    "plt.show()"
   ]
  },
  {
   "cell_type": "code",
   "execution_count": 290,
   "id": "1984b12d-8318-4a0b-a79e-8ff170e8151f",
   "metadata": {
    "tags": []
   },
   "outputs": [],
   "source": [
    "plt.plot(T, wx_t, label='wx(t)')\n",
    "plt.plot(T, wy_t, label='wy(t)')\n",
    "plt.plot(T, wz_t, label='wz(t)')\n",
    "\n",
    "plt.xlabel('Time in Seconds')\n",
    "plt.ylabel('Angular Velocity Radians per Second')\n",
    "plt.title('Omega for Circle')\n",
    "plt.grid(True, linestyle =':')\n",
    "\n",
    "plt.legend()\n",
    "\n",
    "plt.show()"
   ]
  },
  {
   "cell_type": "code",
   "execution_count": null,
   "id": "4619fab9-4aab-417b-82ab-7ebba206f98c",
   "metadata": {},
   "outputs": [],
   "source": [
    "plt.plot(T, wxd_t, label='wx\\'(t)')\n",
    "plt.plot(T, wyd_t, label='wy\\'(t)')\n",
    "plt.plot(T, wzd_t, label='wz\\'(t)')\n",
    "\n",
    "plt.xlabel('Time in Seconds')\n",
    "plt.ylabel('Angular Acceleration in Radians per Second per Second')\n",
    "plt.title('Omega Derivatives for Circle')\n",
    "plt.grid(True, linestyle =':')\n",
    "\n",
    "plt.legend()\n",
    "\n",
    "plt.show()"
   ]
  },
  {
   "cell_type": "code",
   "execution_count": 291,
   "id": "c37a2e9c-44d8-40a2-b1da-356ba51330f8",
   "metadata": {},
   "outputs": [],
   "source": [
    "fig = plt.figure()\n",
    "ax = fig.add_subplot(111, projection='3d')\n",
    "\n",
    "ax.plot(x_t, y_t, z_t, label='Path')\n",
    "ax.set_zlim(0,3)\n",
    "ax.set_xlabel('X Displacement in Meters')\n",
    "ax.set_ylabel('Y Displacement in Meters')\n",
    "ax.set_zlabel('Z Displacement in Meters')\n",
    "\n",
    "ax.legend()\n",
    "\n",
    "plt.show()\n",
    "\n",
    "\n"
   ]
  },
  {
   "cell_type": "code",
   "execution_count": 52,
   "id": "ac8bd4b0-0460-4530-ad9a-4a563d621794",
   "metadata": {
    "scrolled": true,
    "tags": []
   },
   "outputs": [],
   "source": [
    "%matplotlib qt\n",
    "trail = false\n",
    "\n",
    "def update(frame):\n",
    "    ax.clear()\n",
    "    \n",
    "    ax.scatter(x_t[frame], y_t[frame], z_t[frame], c='r', marker='o')\n",
    "    \n",
    "    rotation = R_sci.from_euler('xyz', [phi_t[frame], theta_t[frame], psi_t[frame]]).as_matrix()\n",
    "    \n",
    "    origin = [x_t[frame], y_t[frame], z_t[frame]]\n",
    "    scale = 0.5  \n",
    "\n",
    "    ax.quiver(origin[0], origin[1], origin[2], \n",
    "              rotation[0, 0] * scale, rotation[1, 0] * scale, rotation[2, 0] * scale, \n",
    "              color='r', label='Phi')\n",
    "    \n",
    "    ax.quiver(origin[0], origin[1], origin[2], \n",
    "              rotation[0, 1] * scale, rotation[1, 1] * scale, rotation[2, 1] * scale, \n",
    "              color='g', label='Theta')\n",
    "    \n",
    "    ax.quiver(origin[0], origin[1], origin[2], \n",
    "              rotation[0, 2] * scale, rotation[1, 2] * scale, rotation[2, 2] * scale, \n",
    "              color='b', label='Psi')\n",
    "    \n",
    "    if trail == true:\n",
    "        ax.plot(x_t, y_t, z_t, label=('Positon at time:', (frame*dt)))\n",
    "\n",
    "    ax.set_xlim(-3, 7)\n",
    "    ax.set_ylim(-3, 7)\n",
    "    ax.set_zlim(-3, 7)\n",
    "    ax.set_xlabel(('X(',(frame*dt),')'))\n",
    "    ax.set_ylabel(('Y(',(frame*dt),')'))\n",
    "    ax.set_zlabel(('Z(',(frame*dt),')'))\n",
    "    \n",
    "\n",
    "    ax.legend()\n",
    "\n",
    "fig = plt.figure()\n",
    "ax = fig.add_subplot(111, projection='3d')\n",
    "\n",
    "\n",
    "\n",
    "animation = FuncAnimation(fig, update, frames=len(x_t), interval=dt)\n",
    "\n",
    "plt.show()"
   ]
  },
  {
   "cell_type": "code",
   "execution_count": 53,
   "id": "55fa382b-64f3-4479-a1a1-e4941fe623ed",
   "metadata": {},
   "outputs": [
    {
     "name": "stderr",
     "output_type": "stream",
     "text": [
      "MovieWriter ffmpeg unavailable; using Pillow instead.\n"
     ]
    },
    {
     "name": "stdout",
     "output_type": "stream",
     "text": [
      "done\n"
     ]
    }
   ],
   "source": [
    "animation.save('animation.gif')\n",
    "print(\"done\")"
   ]
  },
  {
   "cell_type": "code",
   "execution_count": null,
   "id": "f7687e85-1aa1-40a1-8472-1c5a8bb84f2a",
   "metadata": {},
   "outputs": [],
   "source": []
  }
 ],
 "metadata": {
  "kernelspec": {
   "display_name": "Python 3 (ipykernel)",
   "language": "python",
   "name": "python3"
  },
  "language_info": {
   "codemirror_mode": {
    "name": "ipython",
    "version": 3
   },
   "file_extension": ".py",
   "mimetype": "text/x-python",
   "name": "python",
   "nbconvert_exporter": "python",
   "pygments_lexer": "ipython3",
   "version": "3.11.5"
  },
  "toc-autonumbering": false,
  "toc-showmarkdowntxt": false
 },
 "nbformat": 4,
 "nbformat_minor": 5
}
