{
 "cells": [
  {
   "cell_type": "code",
   "execution_count": 51,
   "id": "02af23e5-ee03-442b-a536-90b8f572d61a",
   "metadata": {
    "tags": []
   },
   "outputs": [
    {
     "name": "stdin",
     "output_type": "stream",
     "text": [
      "Once deleted, variables cannot be recovered. Proceed (y/[n])?  y\n"
     ]
    },
    {
     "name": "stdout",
     "output_type": "stream",
     "text": [
      "Eq(0, g*l1*m1*t1(t) + g*l1*m2*t1(t) + 1.0*l1**2*m1*Derivative(t1(t), (t, 2)) + 1.0*l1*m2*(l1*Derivative(t1(t), (t, 2)) + l2*Derivative(t2(t), (t, 2))))\n",
      "Eq(0, g*l2*m2*t2(t) + 1.0*l2*m2*(l1*Derivative(t1(t), (t, 2)) + l2*Derivative(t2(t), (t, 2))))\n",
      "g*(-l1*m1*m2 - l2*m1 - l2*m2 - sqrt(l1**2*m1**2*m2**2 - 2*l1*l2*m1**2*m2 - 2*l1*l2*m1*m2**2 + 4*l1*l2*m1*m2 + 4*l1*l2*m2**2 + l2**2*m1**2 + 2*l2**2*m1*m2 + l2**2*m2**2))/(2*l1*l2*m2*(m1 - 1))\n",
      "g*(-l1*m1*m2 - l2*m1 - l2*m2 + sqrt(l1**2*m1**2*m2**2 - 2*l1*l2*m1**2*m2 - 2*l1*l2*m1*m2**2 + 4*l1*l2*m1*m2 + 4*l1*l2*m2**2 + l2**2*m1**2 + 2*l2**2*m1*m2 + l2**2*m2**2))/(2*l1*l2*m2*(m1 - 1))\n"
     ]
    }
   ],
   "source": [
    "#Question 1\n",
    "%reset\n",
    "from sympy import *\n",
    "from sympy.physics.mechanics import *\n",
    "\n",
    "t = symbols('t')\n",
    "\n",
    "m1 = symbols('m1', real = True)\n",
    "m2 = symbols('m2', real = True)\n",
    "\n",
    "g = symbols('g', real = True)\n",
    "\n",
    "l1 = symbols('l1', real = True)\n",
    "l2 = symbols('l2', real = True)\n",
    "\n",
    "t1 = Function('t1')(t)\n",
    "t1d = diff(t1, t)\n",
    "\n",
    "t2 = Function('t2')(t)\n",
    "t2d = diff(t2, t)\n",
    "\n",
    "r1 = l1*Matrix([t1,(t1**2/2)-1,0])\n",
    "r2 = r1 + l2*Matrix([t2,(t2**2/2)-1,0])\n",
    "\n",
    "\n",
    "r1d = l1*Matrix([t1d,0,0])\n",
    "r2d = r1d + l2*Matrix([t2d,0,0])\n",
    "\n",
    "\n",
    "T = 0.5 * (m1*(r1d.dot(r1d)) + m2*(r2d.dot(r2d)))\n",
    "V = m1*g*r1[1]  + m2*g*r2[1]\n",
    "\n",
    "L = T - V\n",
    "\n",
    "ddtdLdt1d = diff(diff(L, t1d),t)\n",
    "dLdt1 = diff(L, t1)\n",
    "\n",
    "ddtdLd21d = diff(diff(L, t2d),t)\n",
    "dLdt2 = diff(L, t2)\n",
    "\n",
    "eq1 = Eq(0, ddtdLdt1d - dLdt1)\n",
    "eq2 = Eq(0, ddtdLd21d - dLdt2)\n",
    "\n",
    "print(eq1)\n",
    "print(eq2)\n",
    "\n",
    "\n",
    "c_tdd = Matrix([[l1**2*(m1*m2), l1*l2*m2],[l1*l2*m2, l2**2*m2]])\n",
    "c_t = Matrix([[g*l1*(m1+m2),0],[0, g*l2*m2]])\n",
    "\n",
    "\n",
    "M = -c_tdd.inv()*c_t\n",
    "\n",
    "eigen_data = M.eigenvects()\n",
    "\n",
    "eigenvalues = [eigen[0] for eigen in eigen_data]\n",
    "eigenvectors = [eigen[2][0] for eigen in eigen_data]\n",
    "\n",
    "print(simplify(eigenvalues[0]))\n",
    "print(simplify(eigenvalues[1]))"
   ]
  },
  {
   "cell_type": "code",
   "execution_count": 55,
   "id": "2172578c-19a2-4024-861f-3c29941c982a",
   "metadata": {
    "tags": []
   },
   "outputs": [
    {
     "name": "stdin",
     "output_type": "stream",
     "text": [
      "Once deleted, variables cannot be recovered. Proceed (y/[n])?  y\n"
     ]
    },
    {
     "name": "stdout",
     "output_type": "stream",
     "text": [
      "[(-g + l*cos(t1(t))*Derivative(t2(t), t)**2)*sin(t1(t))/l]\n",
      "[-2.0*Derivative(t1(t), t)*Derivative(t2(t), t)/tan(t1(t))]\n"
     ]
    }
   ],
   "source": [
    "#Question 2\n",
    "%reset\n",
    "from sympy import *\n",
    "from sympy.physics.mechanics import *\n",
    "\n",
    "t = symbols('t')\n",
    "\n",
    "m = symbols('m', real = True)\n",
    "\n",
    "g = symbols('g', real = True)\n",
    "\n",
    "l = symbols('l', real = True)\n",
    "\n",
    "t1 = Function('t1')(t)\n",
    "t1d = diff(t1, t)\n",
    "\n",
    "t2 = Function('t2')(t)\n",
    "t2d = diff(t2, t)\n",
    "\n",
    "x = l*sin(t1)*sin(t2)\n",
    "z = l*sin(t1)*cos(t2)\n",
    "y = -l*cos(t1)\n",
    "\n",
    "xd = l*t1d*cos(t1)*sin(t2) + l*t2d*sin(t1)*cos(t2)\n",
    "zd = l*t1d*cos(t1)*cos(t2) - l*t2d*sin(t1)*sin(t2)\n",
    "yd = l*t1d*sin(t1)\n",
    "\n",
    "T = 0.5*m*(xd**2 + yd**2 + zd**2)\n",
    "V = m*g*y\n",
    "\n",
    "L = T - V\n",
    "\n",
    "ddtdLdt1d = diff(diff(L, t1d),t)\n",
    "dLdt1 = diff(L, t1)\n",
    "\n",
    "ddtdLd21d = diff(diff(L, t2d),t)\n",
    "dLdt2 = diff(L, t2)\n",
    "\n",
    "eq1 = Eq(0, ddtdLdt1d - dLdt1)\n",
    "eq2 = Eq(0, ddtdLd21d - dLdt2)\n",
    "\n",
    "T1DD = solve(eq1, diff(t1,(t,2)))\n",
    "T2DD = solve(eq2, diff(t2,(t,2)))\n",
    "\n",
    "print(T1DD)\n",
    "print(T2DD)"
   ]
  },
  {
   "cell_type": "code",
   "execution_count": 56,
   "id": "66084db8-d55f-4f1e-af29-dd41617e8091",
   "metadata": {
    "tags": []
   },
   "outputs": [
    {
     "name": "stdin",
     "output_type": "stream",
     "text": [
      "Once deleted, variables cannot be recovered. Proceed (y/[n])?  y\n"
     ]
    },
    {
     "name": "stdout",
     "output_type": "stream",
     "text": [
      "[-(g*sin(t1(t)) + 2.0*Derivative(d(t), t)*Derivative(t1(t), t))/(l + d(t))]\n",
      "[g*cos(t1(t)) - k*d(t)/m + l*Derivative(t1(t), t)**2 + d(t)*Derivative(t1(t), t)**2]\n"
     ]
    }
   ],
   "source": [
    "#Question 3\n",
    "%reset\n",
    "from sympy import *\n",
    "from sympy.physics.mechanics import *\n",
    "\n",
    "t = symbols('t')\n",
    "\n",
    "m = symbols('m', real = True)\n",
    "\n",
    "g = symbols('g', real = True)\n",
    "\n",
    "k = symbols('k', real = True)\n",
    "\n",
    "l = symbols('l', real = True)\n",
    "\n",
    "t1 = Function('t1')(t)\n",
    "t1d = diff(t1, t)\n",
    "\n",
    "\n",
    "d = Function('d')(t)\n",
    "dd = diff(d, t)\n",
    "\n",
    "x = (l+d)*sin(t1)\n",
    "y = -(l+d)*cos(t1)\n",
    "\n",
    "xd = t1d*(l+d)*cos(t1) + dd*sin(t1)\n",
    "yd = t1d*(l+d)*sin(t1) - dd*cos(t1)\n",
    "\n",
    "T = 0.5*m*(xd**2 + yd**2)\n",
    "V = m*g*y + 0.5*k*d**2\n",
    "\n",
    "L = T - V\n",
    "\n",
    "ddtdLdt1d = diff(diff(L, t1d),t)\n",
    "dLdt1 = diff(L, t1)\n",
    "\n",
    "\n",
    "ddtdLddd = diff(diff(L, dd),t)\n",
    "dLdd = diff(L, d)\n",
    "\n",
    "eq1 = Eq(0, ddtdLdt1d - dLdt1)\n",
    "eq2 = Eq(0, ddtdLddd - dLdd)\n",
    "\n",
    "T1DD = solve(eq1, diff(t1,(t,2)))\n",
    "DDD = solve(eq2, diff(d,(t,2)))\n",
    "\n",
    "\n",
    "print(T1DD)\n",
    "print(DDD)"
   ]
  },
  {
   "cell_type": "code",
   "execution_count": 50,
   "id": "5d539656-83cb-4690-9349-f45daf0b2901",
   "metadata": {},
   "outputs": [
    {
     "name": "stdin",
     "output_type": "stream",
     "text": [
      "Once deleted, variables cannot be recovered. Proceed (y/[n])?  y\n"
     ]
    },
    {
     "name": "stdout",
     "output_type": "stream",
     "text": [
      "[-g*sin(t1(t))/l - 0.0193207948195772*Derivative(t1(t), t)**3/Abs(Derivative(t1(t), t))]\n"
     ]
    }
   ],
   "source": [
    "#Question 4\n",
    "%reset\n",
    "from sympy import *\n",
    "from sympy.physics.mechanics import *\n",
    "import numpy as np\n",
    "\n",
    "t = symbols('t')\n",
    "\n",
    "m = 0.1 #kg\n",
    "\n",
    "g = symbols('g', real = True)\n",
    "\n",
    "l = symbols('l', real = True)\n",
    "\n",
    "t1 = Function('t1')(t)\n",
    "t1d = diff(t1, t)\n",
    "\n",
    "x = (l)*sin(t1)\n",
    "y = -(l)*cos(t1)\n",
    "\n",
    "xd = -(l)*t1d*cos(t1)\n",
    "yd = -(l)*t1d*sin(t1)\n",
    "\n",
    "T = 0.5*m*(xd**2 + yd**2)\n",
    "\n",
    "D = 0.5 * 1.2 * (xd**2 + yd**2) * 0.41 * np.pi * .05**2\n",
    "\n",
    "\n",
    "Q = -m*g*(l)*sin(t1) + (D)*(-t1d/abs(t1d))\n",
    "\n",
    "ddtdTdt1d = diff(diff(T, t1d),t)\n",
    "dTdt1 = diff(T, t1)\n",
    "\n",
    "\n",
    "eq1 = Eq(Q, ddtdTdt1d - dTdt1)\n",
    "\n",
    "T1DD = solve(eq1, diff(t1,(t,2)))\n",
    "\n",
    "print(T1DD)"
   ]
  },
  {
   "cell_type": "code",
   "execution_count": 46,
   "id": "1bd1100c-41be-4a2b-8417-ac1aa8d4abcc",
   "metadata": {
    "tags": []
   },
   "outputs": [
    {
     "name": "stdin",
     "output_type": "stream",
     "text": [
      "Once deleted, variables cannot be recovered. Proceed (y/[n])?  y\n"
     ]
    },
    {
     "name": "stdout",
     "output_type": "stream",
     "text": [
      "[0.707106781186548*k*q*sin(t1(t) - t2(t))/(R**2*m*(1 - cos(t1(t) - t2(t)))**(3/2)*Abs(R))]\n",
      "[-0.707106781186548*k*q*sin(t1(t) - t2(t))/(R**2*m*(1 - cos(t1(t) - t2(t)))**(3/2)*Abs(R))]\n"
     ]
    }
   ],
   "source": [
    "#Question 5\n",
    "%reset\n",
    "from sympy import *\n",
    "from sympy.physics.mechanics import *\n",
    "\n",
    "t = symbols('t')\n",
    "\n",
    "m = symbols('m', real = True)\n",
    "\n",
    "q = symbols('q', real = True)\n",
    "\n",
    "R = symbols('R', real = True)\n",
    "\n",
    "k = symbols('k', real = True)\n",
    "\n",
    "t1 = Function('t1')(t)\n",
    "t1d = diff(t1, t)\n",
    "\n",
    "t2 = Function('t2')(t)\n",
    "t2d = diff(t2, t)\n",
    "\n",
    "x1 = R*cos(t1)\n",
    "y1 = R*sin(t1)\n",
    "\n",
    "x1d = -R*t1d*sin(t1)\n",
    "y1d = R*t1d*cos(t1)\n",
    "\n",
    "x2 = R*cos(t2)\n",
    "y2 = R*sin(t2)\n",
    "\n",
    "x2d = -R*t2d*sin(t2)\n",
    "y2d = R*t2d*cos(t2)\n",
    "\n",
    "T = 0.5*m*(x1d**2 + y1d**2 + x2d**2 + y2d**2)\n",
    "V = (k*2*q)/sqrt((x1-x2)**2+(y1-y2)**2)\n",
    "\n",
    "L = T - V\n",
    "\n",
    "ddtdLdt1d = diff(diff(L, t1d),t)\n",
    "dLdt1 = diff(L, t1)\n",
    "\n",
    "ddtdLd21d = diff(diff(L, t2d),t)\n",
    "dLdt2 = diff(L, t2)\n",
    "\n",
    "eq1 = Eq(0, ddtdLdt1d - dLdt1)\n",
    "eq2 = Eq(0, ddtdLd21d - dLdt2)\n",
    "\n",
    "T1DD = solve(eq1, diff(t1,(t,2)))\n",
    "T2DD = solve(eq2, diff(t2,(t,2)))\n",
    "\n",
    "\n",
    "print(T1DD)\n",
    "print(T2DD)"
   ]
  },
  {
   "cell_type": "code",
   "execution_count": null,
   "id": "226e5dfa-6d8e-44e0-8c41-7f4946a9898c",
   "metadata": {},
   "outputs": [],
   "source": []
  }
 ],
 "metadata": {
  "kernelspec": {
   "display_name": "Python 3 (ipykernel)",
   "language": "python",
   "name": "python3"
  },
  "language_info": {
   "codemirror_mode": {
    "name": "ipython",
    "version": 3
   },
   "file_extension": ".py",
   "mimetype": "text/x-python",
   "name": "python",
   "nbconvert_exporter": "python",
   "pygments_lexer": "ipython3",
   "version": "3.11.5"
  }
 },
 "nbformat": 4,
 "nbformat_minor": 5
}
