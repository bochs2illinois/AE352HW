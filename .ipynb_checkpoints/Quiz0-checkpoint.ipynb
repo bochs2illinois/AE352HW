{
 "cells": [
  {
   "cell_type": "code",
   "execution_count": 22,
   "id": "1acf59bd-f3ca-4d64-9401-79248ac71335",
   "metadata": {
    "tags": []
   },
   "outputs": [
    {
     "name": "stdout",
     "output_type": "stream",
     "text": [
      "The final velocity vector is  Matrix([[1], [0], [-99.4209233511739]]) m/s\n",
      "The KE at impact is  74141400.0000000 J\n"
     ]
    }
   ],
   "source": [
    "#Question 1\n",
    "import numpy as np\n",
    "from sympy import *\n",
    "import matplotlib.pyplot as plt\n",
    "import math\n",
    "\n",
    "#given \n",
    "m = 15000 #kg\n",
    "h0 = 10000 #ft\n",
    "qd0 = Matrix([1,0,-3]) #m/s\n",
    "g = -1.62 # m/s/s\n",
    "\n",
    "\n",
    "h0 = h0*0.3048 #h0 in meters\n",
    "\n",
    "#b\n",
    "t = symbols(\"t\")\n",
    "qdd = Matrix([0,0,g])\n",
    "qd = integrate(qdd,t) + qd0\n",
    "q = integrate(qd,t) + Matrix([0,0,h0])\n",
    "\n",
    "eq1 = Eq(0, q[2])\n",
    "soln = solve(eq1,t)\n",
    "T = soln[1]\n",
    "qdf = qd.subs(t,T)\n",
    "print(\"The final velocity vector is \", qdf, \"m/s\")\n",
    "\n",
    "#c\n",
    "KE = .5 * m * qdf.norm()**2\n",
    "print(\"The KE at impact is \", KE, \"J\")"
   ]
  },
  {
   "cell_type": "code",
   "execution_count": 52,
   "id": "ef4adf07-4161-444f-b7d6-47916914c12b",
   "metadata": {
    "tags": []
   },
   "outputs": [
    {
     "name": "stdout",
     "output_type": "stream",
     "text": [
      "The thrust required for a 20 second time to landing is  Matrix([[-750.000000000000], [0], [49800.0000000000]]) N\n"
     ]
    }
   ],
   "source": [
    "#Question 2\n",
    "import numpy as np\n",
    "from sympy import *\n",
    "import matplotlib.pyplot as plt\n",
    "import math\n",
    "\n",
    "#given\n",
    "m = 15000 #kg\n",
    "q0 = Matrix([40, 0, 1632]) #m\n",
    "qd0 = Matrix([1,0 ,-35]) #m/s\n",
    "g = -1.62\n",
    "#b\n",
    "qdf = Matrix([0,0,-1]) #m/s\n",
    "\n",
    "qddx, qddz, t = symbols(\"qddx, qddz, t\")\n",
    "\n",
    "qdd = Matrix([qddx, 0, qddz + g])\n",
    "qd = integrate(qdd,t) + qd0\n",
    "q = integrate(qd, t) + q0\n",
    "\n",
    "eq1 = Eq(qdf, qd)\n",
    "eq2 = Eq(t, 20) #from problem, 20s before landing\n",
    "soln = solve((eq1,eq2),(qddx,qddz,t))\n",
    "\n",
    "QDDX = soln[0][0]\n",
    "QDDY = soln[0][1]\n",
    "T = Matrix([QDDX*m, 0 , QDDY*m])\n",
    "\n",
    "\n",
    "\n",
    "print(\"The thrust required for a 20 second time to landing is \", T, \"N\")"
   ]
  },
  {
   "cell_type": "code",
   "execution_count": 57,
   "id": "c71bff28-d8f4-4b1e-a750-03f2fa5d2807",
   "metadata": {
    "tags": []
   },
   "outputs": [
    {
     "name": "stdout",
     "output_type": "stream",
     "text": [
      "The critcal damping coeffecient is  1788.85438199983 kg/s\n",
      "0.497205787878578\n"
     ]
    }
   ],
   "source": [
    "#Question 3\n",
    "import numpy as np\n",
    "from sympy import *\n",
    "import matplotlib.pyplot as plt\n",
    "import math\n",
    "\n",
    "m = 2000 #kg\n",
    "k = 400 #N/m\n",
    "q0 = .2 #m\n",
    "\n",
    "#a\n",
    "y, cc = symbols(\"y, cc\")\n",
    "eq1 = Eq(0, (k/m) - y**2)\n",
    "eq2 = Eq(y, cc / (2*m))\n",
    "soln = solve((eq1,eq2),(y,cc))\n",
    "c = soln[1][1]\n",
    "print(\"The critcal damping coeffecient is \", c, \"kg/s\")\n",
    "\n",
    "#b \n",
    "w = sqrt(-((k/m)-(c/(2*m))))\n",
    "print(w)"
   ]
  },
  {
   "cell_type": "code",
   "execution_count": null,
   "id": "9d50bab0-4e38-4c7f-9c1a-fa9846ca2910",
   "metadata": {},
   "outputs": [],
   "source": []
  }
 ],
 "metadata": {
  "kernelspec": {
   "display_name": "Python 3 (ipykernel)",
   "language": "python",
   "name": "python3"
  },
  "language_info": {
   "codemirror_mode": {
    "name": "ipython",
    "version": 3
   },
   "file_extension": ".py",
   "mimetype": "text/x-python",
   "name": "python",
   "nbconvert_exporter": "python",
   "pygments_lexer": "ipython3",
   "version": "3.11.5"
  }
 },
 "nbformat": 4,
 "nbformat_minor": 5
}
